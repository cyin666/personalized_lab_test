{
 "cells": [
  {
   "cell_type": "code",
   "execution_count": 1,
   "id": "hairy-lunch",
   "metadata": {},
   "outputs": [],
   "source": [
    "import sklearn\n",
    "import pandas as pd\n",
    "import numpy as np\n",
    "import numba as nb\n",
    "import pickle \n",
    "import os\n",
    "import functools as ft\n",
    "import swifter"
   ]
  },
  {
   "cell_type": "markdown",
   "id": "angry-recognition",
   "metadata": {},
   "source": [
    "# data loading"
   ]
  },
  {
   "cell_type": "code",
   "execution_count": 5,
   "id": "stock-thursday",
   "metadata": {},
   "outputs": [],
   "source": [
    "data_wd = \"/data/datasets/Tianchen/2022_three_cancer_Yu_1FL_data/data\""
   ]
  },
  {
   "cell_type": "code",
   "execution_count": 6,
   "id": "hindu-passion",
   "metadata": {},
   "outputs": [
    {
     "name": "stderr",
     "output_type": "stream",
     "text": [
      "/tmp/ipykernel_18264/962649024.py:3: DtypeWarning: Columns (7,8,12) have mixed types. Specify dtype option on import or set low_memory=False.\n",
      "  diagnosis = pd.read_csv(data_wd+\"/DIAGNOSIS.csv\",header=0,skiprows=[1])\n",
      "/tmp/ipykernel_18264/962649024.py:4: DtypeWarning: Columns (9,10,12,13,17,21,23,25) have mixed types. Specify dtype option on import or set low_memory=False.\n",
      "  lab_result_cm = pd.read_csv(data_wd+\"/LAB_RESULT_CM.csv\",header=0,skiprows=[1])\n"
     ]
    }
   ],
   "source": [
    "#the data below follow PCORnet common data model\n",
    "#https://pcornet.org/wp-content/uploads/2022/01/PCORnet-Common-Data-Model-v60-2020_10_221.pdf\n",
    "\n",
    "death = pd.read_csv(data_wd+\"/DEATH.csv\",header=0,skiprows=[1])\n",
    "demographics = pd.read_csv(data_wd+\"/DEMOGRAPHIC.csv\",header=0,skiprows=[1])\n",
    "diagnosis = pd.read_csv(data_wd+\"/DIAGNOSIS.csv\",header=0,skiprows=[1])\n",
    "lab_result_cm = pd.read_csv(data_wd+\"/LAB_RESULT_CM.csv\",header=0,skiprows=[1])\n",
    "\n",
    "#The data below may not be needed for this project, at least at this time\n",
    "####################################################################################\n",
    "#procedure = pd.read_csv(data_wd+\"/PROCEDURES.csv\",header=0,skiprows=[1])\n",
    "#dispensing = pd.read_csv(data_wd+\"/DISPENSING.csv\",header=0,skiprows=[1])\n",
    "#med_admin = pd.read_csv(data_wd+\"/MED_ADMIN.csv\",header=0,skiprows=[1])\n",
    "#vital = pd.read_csv(data_wd+\"/VITAL.csv\",header=0,skiprows=[1])\n",
    "#encounter = pd.read_csv(data_wd+\"/ENCOUNTER.csv\",header=0,skiprows=[1])\n",
    "#prescribing = pd.read_csv(data_wd+\"/PRESCRIBING.csv\",header=0,skiprows=[1])"
   ]
  },
  {
   "cell_type": "code",
   "execution_count": 7,
   "id": "massive-cambridge",
   "metadata": {},
   "outputs": [],
   "source": [
    "#the data below is the index date of cancer onset, kindly provided by Tianchen\n",
    "index_date = pd.read_csv('/data/datasets/Tianchen/2022_three_cancer_Yu_1FL_data/f_cancer_yu_index_date.csv')"
   ]
  },
  {
   "cell_type": "markdown",
   "id": "needed-drink",
   "metadata": {},
   "source": [
    "# Cohort subsetting"
   ]
  },
  {
   "cell_type": "markdown",
   "id": "hairy-transsexual",
   "metadata": {},
   "source": [
    "*The summary statistics number were used to generate the numbers in statistic spreadsheet*"
   ]
  },
  {
   "cell_type": "markdown",
   "id": "ruled-textbook",
   "metadata": {},
   "source": [
    "## cancer ICD definition"
   ]
  },
  {
   "cell_type": "code",
   "execution_count": 8,
   "id": "prospective-counter",
   "metadata": {},
   "outputs": [],
   "source": [
    "#cancer icd, provided in the data request form \n",
    "lung_cancer_icd = ['162.2',\n",
    "                   '162.3',\n",
    "                   '162.4',\n",
    "                   '162.5',\n",
    "                   '162.8',\n",
    "                   '162.9',\n",
    "                   'C34',\n",
    "                   'C34.0',\n",
    "                   'C34.01','C34.02','C34.00',\n",
    "                   'C34.1','C34.10','C34.11','C34.12',\n",
    "                   'C34.2',\n",
    "                   'C34.3','C34.30','C34.31','C34.32',\n",
    "                   'C34.8','C34.80','C34.82','C34.81',\n",
    "                   'C34.9','C34.90','C34.91','C34.92',\n",
    "                   '1622',\n",
    "                   '1623',\n",
    "                   '1624',\n",
    "                   '1625',\n",
    "                   '1628',\n",
    "                   '1629',\n",
    "                   'C34',\n",
    "                   'C340',\n",
    "                   'C3401','C3402','C3400',\n",
    "                   'C341','C3410','C3411','C3412',\n",
    "                   'C342',\n",
    "                   'C343','C3430','C3431','C3432',\n",
    "                   'C348','C3480','C3482','C3481',\n",
    "                   'C349','C3490','C3491','C3492']"
   ]
  },
  {
   "cell_type": "code",
   "execution_count": 9,
   "id": "choice-parking",
   "metadata": {},
   "outputs": [],
   "source": [
    "colorectal_cancer_icd = ['153','153.0','153.1','153.2','153.3','153.4','153.5','153.6','153.7','153.8','153.9',\n",
    "                         '154','154.0','154.1','154.2','154.3','154.8',\n",
    "                         '159.0',\n",
    "                         'C18','C18.0','C18.1','C18.2','C18.3','C18.4','C18.5','C18.6','C18.7','C18.8','C18.9',\n",
    "                         'C19',\n",
    "                         'C20',\n",
    "                         'C21','C21.0','C21.1','C21.2','C21.8',\n",
    "                         'C26.0',\n",
    "                        '153','1530','1531','1532','1533','1534','1535','1536','1537','1538','1539',\n",
    "                         '154','1540','1541','1542','1543','1548',\n",
    "                         '1590',\n",
    "                         'C18','C180','C181','C182','C183','C184','C185','C186','C187','C188','C189',\n",
    "                         'C19',\n",
    "                         'C20',\n",
    "                         'C21','C210','C211','C212','C218',\n",
    "                         'C260']"
   ]
  },
  {
   "cell_type": "code",
   "execution_count": 10,
   "id": "incident-bread",
   "metadata": {},
   "outputs": [],
   "source": [
    "breast_cancer_icd = ['174','174.0','174.1','174.2','174.3','174.4','174.5','174.6','174.8','174.9',\n",
    "                     '175','175.0','175.9',\n",
    "                     'C50',\n",
    "                     'C50.0',\n",
    "                     'C50.01','C50.011','C50.012','C50.019',\n",
    "                     'C50.02','C50.021','C50.022','C50.029',\n",
    "                     'C50.1',\n",
    "                     'C50.11','C50.111','C50.112','C50.119',\n",
    "                     'C50.12','C50.121','C50.122','C50.129',\n",
    "                     'C50.2',\n",
    "                     'C50.21','C50.211','C50.212','C50.219',\n",
    "                     'C50.22','C50.221','C50.222','C50.229',\n",
    "                     'C50.3',\n",
    "                     'C50.31','C50.311','C50.312','C50.319',\n",
    "                     'C50.32','C50.321','C50.322','C50.329',\n",
    "                     'C50.4',\n",
    "                     'C50.41','C50.411','C50.412','C50.419',\n",
    "                     'C50.42','C50.421','C50.422','C50.429',\n",
    "                     'C50.5',\n",
    "                     'C50.51','C50.511','C50.512','C50.519',\n",
    "                     'C50.52','C50.521','C50.522','C50.529',\n",
    "                     'C50.6',\n",
    "                     'C50.61','C50.611','C50.612','C50.619',\n",
    "                     'C50.62','C50.621','C50.622','C50.629',\n",
    "                     'C50.8',\n",
    "                     'C50.81','C50.811','C50.812','C50.819',\n",
    "                     'C50.82','C50.821','C50.822','C50.829',\n",
    "                     'C50.9',\n",
    "                     'C50.91','C50.911','C50.912','C50.919',\n",
    "                     'C50.92','C50.921','C50.922','C50.929',\n",
    "                     \n",
    "                     '174','1740','1741','1742','1743','1744','1745','1746','1748','1749',\n",
    "                     '175','1750','1759',\n",
    "                     'C50',\n",
    "                     'C500',\n",
    "                     'C5001','C50011','C50012','C50019',\n",
    "                     'C5002','C50021','C50022','C50029',\n",
    "                     'C501',\n",
    "                     'C5011','C50111','C50112','C50119',\n",
    "                     'C5012','C50121','C50122','C50129',\n",
    "                     'C502',\n",
    "                     'C5021','C50211','C50212','C50219',\n",
    "                     'C5022','C50221','C50222','C50229',\n",
    "                     'C503',\n",
    "                     'C5031','C50311','C50312','C50319',\n",
    "                     'C5032','C50321','C50322','C50329',\n",
    "                     'C504',\n",
    "                     'C5041','C50411','C50412','C50419',\n",
    "                     'C5042','C50421','C50422','C50429',\n",
    "                     'C505',\n",
    "                     'C5051','C50511','C50512','C50519',\n",
    "                     'C5052','C50521','C50522','C50529',\n",
    "                     'C506',\n",
    "                     'C5061','C50611','C50612','C50619',\n",
    "                     'C5062','C50621','C50622','C50629',\n",
    "                     'C508',\n",
    "                     'C5081','C50811','C50812','C50819',\n",
    "                     'C5082','C50821','C50822','C50829',\n",
    "                     'C509',\n",
    "                     'C5091','C50911','C50912','C50919',\n",
    "                     'C5092','C50921','C50922','C50929'\n",
    "                    ]"
   ]
  },
  {
   "cell_type": "code",
   "execution_count": 11,
   "id": "aware-equity",
   "metadata": {},
   "outputs": [],
   "source": [
    "all3_cancer_icd = np.concatenate((lung_cancer_icd,colorectal_cancer_icd,breast_cancer_icd),axis=0)"
   ]
  },
  {
   "cell_type": "markdown",
   "id": "offshore-improvement",
   "metadata": {},
   "source": [
    "## cohort 1: all cancer patients"
   ]
  },
  {
   "cell_type": "markdown",
   "id": "behind-saver",
   "metadata": {},
   "source": [
    "*This step serves as data quality check. The above ICD codes are from the data extraction form. Ideally, this entire cancer cohort equal to the whole dataset we have.*"
   ]
  },
  {
   "cell_type": "code",
   "execution_count": 12,
   "id": "rolled-secondary",
   "metadata": {},
   "outputs": [],
   "source": [
    "all3_patient = diagnosis.loc[diagnosis['DX'].isin(all3_cancer_icd)][['DX','ID']].drop_duplicates().reset_index(drop=True)\n",
    "#all3_patient.groupby('DX').size()"
   ]
  },
  {
   "cell_type": "code",
   "execution_count": 13,
   "id": "supported-comment",
   "metadata": {},
   "outputs": [
    {
     "data": {
      "text/plain": [
       "(261838, 1)"
      ]
     },
     "execution_count": 13,
     "metadata": {},
     "output_type": "execute_result"
    }
   ],
   "source": [
    "#total number of patients by grouping size, filtered by cancer icd codes\n",
    "all3_patient[['ID']].drop_duplicates().shape"
   ]
  },
  {
   "cell_type": "code",
   "execution_count": 15,
   "id": "stunning-passenger",
   "metadata": {},
   "outputs": [
    {
     "data": {
      "text/plain": [
       "261841"
      ]
     },
     "execution_count": 15,
     "metadata": {},
     "output_type": "execute_result"
    }
   ],
   "source": [
    "#total number of patients in `diagnosis` table\n",
    "len(diagnosis[['ID']].drop_duplicates())"
   ]
  },
  {
   "cell_type": "markdown",
   "id": "infectious-bristol",
   "metadata": {},
   "source": [
    "*clearly, there are three patients mismatch. The below subsection check the reason why.*"
   ]
  },
  {
   "cell_type": "code",
   "execution_count": 16,
   "id": "subject-pacific",
   "metadata": {},
   "outputs": [],
   "source": [
    "all3_patient_TMP = diagnosis.loc[~diagnosis['ID'].isin(all3_patient['ID'])][['ID']].drop_duplicates().reset_index(drop=True)"
   ]
  },
  {
   "cell_type": "code",
   "execution_count": 17,
   "id": "derived-impact",
   "metadata": {},
   "outputs": [
    {
     "data": {
      "text/html": [
       "<div>\n",
       "<style scoped>\n",
       "    .dataframe tbody tr th:only-of-type {\n",
       "        vertical-align: middle;\n",
       "    }\n",
       "\n",
       "    .dataframe tbody tr th {\n",
       "        vertical-align: top;\n",
       "    }\n",
       "\n",
       "    .dataframe thead th {\n",
       "        text-align: right;\n",
       "    }\n",
       "</style>\n",
       "<table border=\"1\" class=\"dataframe\">\n",
       "  <thead>\n",
       "    <tr style=\"text-align: right;\">\n",
       "      <th></th>\n",
       "      <th>ID</th>\n",
       "    </tr>\n",
       "  </thead>\n",
       "  <tbody>\n",
       "    <tr>\n",
       "      <th>0</th>\n",
       "      <td>03Nov2022IRB20200313700171589</td>\n",
       "    </tr>\n",
       "    <tr>\n",
       "      <th>1</th>\n",
       "      <td>03Nov2022IRB20200313700150936</td>\n",
       "    </tr>\n",
       "    <tr>\n",
       "      <th>2</th>\n",
       "      <td>03Nov2022IRB20200313700204041</td>\n",
       "    </tr>\n",
       "  </tbody>\n",
       "</table>\n",
       "</div>"
      ],
      "text/plain": [
       "                              ID\n",
       "0  03Nov2022IRB20200313700171589\n",
       "1  03Nov2022IRB20200313700150936\n",
       "2  03Nov2022IRB20200313700204041"
      ]
     },
     "execution_count": 17,
     "metadata": {},
     "output_type": "execute_result"
    }
   ],
   "source": [
    "all3_patient_TMP"
   ]
  },
  {
   "cell_type": "code",
   "execution_count": 18,
   "id": "addressed-management",
   "metadata": {},
   "outputs": [],
   "source": [
    "#get the ICD codes of these 3 mismatched patients\n",
    "p1 = diagnosis.loc[diagnosis['ID']=='03Nov2022IRB20200313700204041']['DX'].drop_duplicates().values"
   ]
  },
  {
   "cell_type": "code",
   "execution_count": 19,
   "id": "improved-vacation",
   "metadata": {},
   "outputs": [],
   "source": [
    "p2 = diagnosis.loc[diagnosis['ID']=='03Nov2022IRB20200313700171589']['DX'].drop_duplicates().values"
   ]
  },
  {
   "cell_type": "code",
   "execution_count": 20,
   "id": "composed-trainer",
   "metadata": {},
   "outputs": [],
   "source": [
    "p3 = diagnosis.loc[diagnosis['ID']=='03Nov2022IRB20200313700150936']['DX'].drop_duplicates().values"
   ]
  },
  {
   "cell_type": "code",
   "execution_count": 21,
   "id": "expanded-description",
   "metadata": {},
   "outputs": [
    {
     "data": {
      "text/plain": [
       "array(['K62.5', 'I12.9', 'E77.4', 'J44.9', 'N40.0', 'C20.YC', 'D64.9',\n",
       "       'E11.9', 'K42.9', 'F17.210', 'N20.0', 'N18.9', 'R42', 'I10',\n",
       "       'I49.3', 'R06.00'], dtype=object)"
      ]
     },
     "execution_count": 21,
     "metadata": {},
     "output_type": "execute_result"
    }
   ],
   "source": [
    "p1"
   ]
  },
  {
   "cell_type": "code",
   "execution_count": 22,
   "id": "chief-pledge",
   "metadata": {},
   "outputs": [
    {
     "data": {
      "text/plain": [
       "array(['305.60', '300.9', '995.90', '298.9', '270.6', '977.9', '518.81',\n",
       "       '276.2', 'F11.20', '659.71', '998.13', '781.0', 'V22.1', '305.1',\n",
       "       '304.00', 'V22.2', 'V23.49', '649.03', '304.01', 'V23.7', '287.5',\n",
       "       '649.33', 'V58.69', '285.9', 'V02.51', '648.91', '648.21',\n",
       "       '649.01', 'V27.0', '645.21', '648.31', '162.59', '782.3', '292.9',\n",
       "       '655.83', 'V22.0', 'O34.29', 'F19.20', 'Z22.338', 'Z34.80',\n",
       "       'Z34.93', 'O09.622', 'B18.1', 'B19.20', 'O26.613', 'O35.5XX0',\n",
       "       'Z33.1', 'Z13.828', 'Z83.3', 'L02.91', 'O42.013', 'O32.1XX0',\n",
       "       'O99.324', 'O34.219', 'Z37.0', 'R10.30', 'Z3A.39', 'F17.210',\n",
       "       'O99.334', 'F43.10', 'H00.011', 'L03.213', 'H00.016'], dtype=object)"
      ]
     },
     "execution_count": 22,
     "metadata": {},
     "output_type": "execute_result"
    }
   ],
   "source": [
    "p2"
   ]
  },
  {
   "cell_type": "code",
   "execution_count": 23,
   "id": "improved-intake",
   "metadata": {},
   "outputs": [
    {
     "data": {
      "text/plain": [
       "array(['Z12.4', 'I49.9', 'I48.92', 'E03.9', 'Z01.00', 'Z12.11', 'B35.1',\n",
       "       'S86.819A', 'D68.69', 'K31.6', 'I10', 'E78.2', 'M54.5', 'G89.4',\n",
       "       'M81.0', 'J44.9', 'Z23', 'Z87.39', 'E05.90', 'Z78.0', 'Z87.891',\n",
       "       'Z79.899', 'S82.035A', 'M17.12', 'Z20.822', 'I25.2', 'M06.9',\n",
       "       'Z13.29', 'Z12.31', 'L30.9', 'K46.9', 'M15.0', 'L98.8', 'R19.7',\n",
       "       'N63.0', 'Z51.81', 'Z00.00', 'N20.0', 'R31.9', 'R31.0', 'M54.16',\n",
       "       'M25.50', 'R53.83', 'K43.6', 'K63.2', 'K56.7', 'N17.9', 'R53.81',\n",
       "       'R10.9', 'Z46.82', 'S22.009A', 'E66.9', 'N39.0', 'K56.609',\n",
       "       'R00.2', 'I50.9', 'R06.02', 'N13.6', 'I12.9', 'N20.2', 'N28.1',\n",
       "       'N18.4', 'D64.9', 'E66.01', 'E11.22', 'Z68.31', 'I48.91', 'Z90.49',\n",
       "       'K21.9', 'Z93.6', 'Z87.442', 'R59.0', 'G89.29', 'Z01.419', 'R01.1',\n",
       "       'H10.13', 'H35.372', 'H18.51', 'H40.1131', 'I11.0', 'E11.9',\n",
       "       'M19.041', 'Z68.32', 'G47.33', 'M19.042', 'H40.9', 'D53.9',\n",
       "       'N18.3', 'R73.09', 'R50.9', 'N20.1', 'R31.29', 'N63.21', 'N64.89',\n",
       "       'K56.699', 'R10.32', 'M51.36', 'S31.109D', 'N12', 'M48.54XA',\n",
       "       'R01.0', 'L23.1', 'V70.0', '238.75', 'V58.11', 'R69', 'D46.9',\n",
       "       'Z51.11', 'J96.12', 'R00.0', 'R06.89', 'R52', 'E87.6', 'T46.0X6A',\n",
       "       'S31.109A', 'M62.59', 'R26.2', 'C94.6', 'D63.8', 'R53.1', 'J90',\n",
       "       'R91.8', 'R10.11', 'B99.9', 'D72.819', 'R78.81', 'E78.5', 'M54.9',\n",
       "       'M54.2', 'M51.27', 'A41.9', 'R65.11', 'E83.42', 'M62.81', 'R26.9',\n",
       "       'R27.9', 'T81.4XXA', 'K63.1', 'Z45.2', 'K81.0', 'K82.9', 'K65.1',\n",
       "       'I50.32', 'C92.Z0', 'R07.89', 'R16.1', 'L60.0', 'L03.031',\n",
       "       'M79.675', 'K91.89', 'R10.84', 'K82.8', 'K25.9', 'D46.Z', 'K81.1',\n",
       "       'D64.89', 'R11.2', 'G89.18', 'K56.60', 'J18.9', 'I31.3', 'K92.2',\n",
       "       'J98.11', 'R79.9', 'R11.0', 'I48.0', 'B95.62', 'K75.0', 'R79.89',\n",
       "       'Z93.0', 'T85.628A', 'E86.0', 'D72.825', 'R11.10', 'R93.2',\n",
       "       'I50.21', 'T81.89XA', 'K81.9', 'R65.21', 'Z74.01', 'K82.3',\n",
       "       'R14.0', 'R10.13', 'R16.0', 'R16.2', 'I36.9', 'S31.609A', 'K92.1',\n",
       "       'I82.612', 'K76.89', 'K80.20', 'K76.0', 'K83.1', 'K86.9', 'Z95.5',\n",
       "       'Z78.9', 'D25.9', 'R60.9', 'R93.5', 'M54.6', 'R07.9', 'J81.0',\n",
       "       'J43.9', 'N21.0', 'K56.69', 'M47.896', 'R73.9', 'E16.9', 'R31.1',\n",
       "       'N18.6', 'R26.89', 'R27.8', 'R13.12', 'A41.51', 'Z79.4', 'Z79.891',\n",
       "       'R13.11', 'M79.674', 'R68.89', 'N39.41', 'C20.2', 'R05', 'A49.02',\n",
       "       'T81.41XD', 'N13.30', 'N13.39', 'K66.1', 'S37.021A', 'D62',\n",
       "       'K42.9', 'K43.9', 'L72.3', 'L02.212', 'M19.90', 'Q62.11', 'R06.03',\n",
       "       'H25.811', 'S36.892A', 'N81.4', 'Z96.1', 'N15.1', 'R58',\n",
       "       'S37.011S', 'R06.00', 'S37.011A', 'H25.812', 'H04.123', 'J98.4',\n",
       "       'R65.20', 'R19.00', 'Z01.810', 'R94.31', 'Z01.812', 'N17.0',\n",
       "       'J95.821', 'T81.40XA', 'R06.09', 'N13.2', 'J00', 'M79.89',\n",
       "       'S37.092S', 'N17.8', 'H26.9', 'S37.092A', 'Z98.890', 'F32.9',\n",
       "       'H52.222', 'T81.83XA', 'T81.44XA', 'E87.2', 'I25.10', 'D69.6',\n",
       "       'I95.9', 'N28.89', 'H40.1130', 'H25.813', '599.0', '719.49',\n",
       "       '780.96', '719.41', '782.3', '716.99', '719.7', '840.9', '729.81',\n",
       "       '787.03', '787.91', '592.0', '250.02', '714.0', '491.21', '786.51',\n",
       "       '715.96', '401.1', '780.79', '715.16', '715.14', '715.27', '272.2',\n",
       "       '401.9', '695.4', '427.89', '786.05', '719.46', '288.00', '285.9',\n",
       "       '288.50', '296.20', '413.9', '496', '787.01', '799.02', '780.2',\n",
       "       '786.59', '305.1', '397.0', '278.00', '458.9', '424.0', '530.81',\n",
       "       '272.4', '786.50', 'V64.06', 'V15.82', '715.90', '787.99',\n",
       "       '722.73', '285.22', '338.19', '578.9', '781.2', '786.09',\n",
       "       'T80.219A', 'K29.60', 'K52.89', 'E55.9', 'K80.42', 'F17.210',\n",
       "       'E11.65', 'E87.5', 'K80.00', 'K65.3', 'E43', 'L03.311', 'K94.12',\n",
       "       'E87.0', 'Y83.8', 'Z53.31', 'V58.83', 'V58.69', 'E849.0', 'E927.8',\n",
       "       '274.9', '564.00', '041.49', '455.3', 'V15.81', '300.00'],\n",
       "      dtype=object)"
      ]
     },
     "execution_count": 23,
     "metadata": {},
     "output_type": "execute_result"
    }
   ],
   "source": [
    "p3"
   ]
  },
  {
   "cell_type": "code",
   "execution_count": 24,
   "id": "swedish-camera",
   "metadata": {},
   "outputs": [
    {
     "data": {
      "text/plain": [
       "array(['F17.210'], dtype=object)"
      ]
     },
     "execution_count": 24,
     "metadata": {},
     "output_type": "execute_result"
    }
   ],
   "source": [
    "#The below codes check whether there are some overlapping between the 3 mismatches\n",
    "p1[np.isin(p1,p2)]"
   ]
  },
  {
   "cell_type": "code",
   "execution_count": 25,
   "id": "martial-architecture",
   "metadata": {},
   "outputs": [
    {
     "data": {
      "text/plain": [
       "array(['I12.9', 'J44.9', 'D64.9', 'E11.9', 'K42.9', 'F17.210', 'N20.0',\n",
       "       'I10', 'R06.00'], dtype=object)"
      ]
     },
     "execution_count": 25,
     "metadata": {},
     "output_type": "execute_result"
    }
   ],
   "source": [
    "p1[np.isin(p1,p3)]"
   ]
  },
  {
   "cell_type": "code",
   "execution_count": 26,
   "id": "neutral-olympus",
   "metadata": {},
   "outputs": [
    {
     "data": {
      "text/plain": [
       "array(['305.1', 'V58.69', '285.9', '782.3', 'F17.210'], dtype=object)"
      ]
     },
     "execution_count": 26,
     "metadata": {},
     "output_type": "execute_result"
    }
   ],
   "source": [
    "p2[np.isin(p2,p3)]"
   ]
  },
  {
   "cell_type": "markdown",
   "id": "varying-raising",
   "metadata": {},
   "source": [
    "***number of patients in the patients identified by icd, is not equal to the total number of patients in the whole data sets. Maybe there are some other icd used by Tianchen to extract the study cohort besides the icd used in data request form?***"
   ]
  },
  {
   "cell_type": "markdown",
   "id": "brazilian-volleyball",
   "metadata": {},
   "source": [
    "***Conclusion: only 3 mismatches should be acceptable, so let's disregard them for now.***"
   ]
  },
  {
   "cell_type": "code",
   "execution_count": 27,
   "id": "saving-evolution",
   "metadata": {},
   "outputs": [
    {
     "data": {
      "text/plain": [
       "61545"
      ]
     },
     "execution_count": 27,
     "metadata": {},
     "output_type": "execute_result"
    }
   ],
   "source": [
    "#all types of diagnosis ICD codes\n",
    "len(diagnosis[['DX']].drop_duplicates())"
   ]
  },
  {
   "cell_type": "code",
   "execution_count": 28,
   "id": "civic-haven",
   "metadata": {},
   "outputs": [
    {
     "data": {
      "text/plain": [
       "152014"
      ]
     },
     "execution_count": 28,
     "metadata": {},
     "output_type": "execute_result"
    }
   ],
   "source": [
    "#all patient in `lab` table\n",
    "len(lab_result_cm[['ID']].drop_duplicates())"
   ]
  },
  {
   "cell_type": "code",
   "execution_count": 29,
   "id": "restricted-robertson",
   "metadata": {},
   "outputs": [
    {
     "data": {
      "text/plain": [
       "1.0"
      ]
     },
     "execution_count": 29,
     "metadata": {},
     "output_type": "execute_result"
    }
   ],
   "source": [
    "#check table consistency, `patients`\n",
    "np.mean(diagnosis['ID'].isin(demographics['ID']))"
   ]
  },
  {
   "cell_type": "code",
   "execution_count": 30,
   "id": "decimal-giant",
   "metadata": {},
   "outputs": [
    {
     "data": {
      "text/plain": [
       "1.0"
      ]
     },
     "execution_count": 30,
     "metadata": {},
     "output_type": "execute_result"
    }
   ],
   "source": [
    "#check table consistency, `lab`\n",
    "np.mean(lab_result_cm['ID'].isin(demographics['ID']))"
   ]
  },
  {
   "cell_type": "markdown",
   "id": "similar-affiliate",
   "metadata": {},
   "source": [
    "## cohort 2: lung cancer"
   ]
  },
  {
   "cell_type": "code",
   "execution_count": 31,
   "id": "romance-community",
   "metadata": {},
   "outputs": [],
   "source": [
    "lung_patient = diagnosis.loc[diagnosis['DX'].isin(lung_cancer_icd)][['DX','ID']].drop_duplicates().reset_index(drop=True)\n",
    "#lung_patient.groupby('DX').size()"
   ]
  },
  {
   "cell_type": "code",
   "execution_count": 32,
   "id": "palestinian-latex",
   "metadata": {},
   "outputs": [
    {
     "data": {
      "text/plain": [
       "89222"
      ]
     },
     "execution_count": 32,
     "metadata": {},
     "output_type": "execute_result"
    }
   ],
   "source": [
    "len(lung_patient['ID'].drop_duplicates())"
   ]
  },
  {
   "cell_type": "markdown",
   "id": "regulation-omega",
   "metadata": {},
   "source": [
    "## cohort 3: colorectal cancer"
   ]
  },
  {
   "cell_type": "code",
   "execution_count": 33,
   "id": "charitable-board",
   "metadata": {},
   "outputs": [],
   "source": [
    "colorectal_patient = diagnosis.loc[diagnosis['DX'].isin(colorectal_cancer_icd)][['DX','ID']].drop_duplicates().reset_index(drop=True)\n",
    "#colorectal_patient.groupby('DX').size()"
   ]
  },
  {
   "cell_type": "code",
   "execution_count": 34,
   "id": "brief-ballot",
   "metadata": {},
   "outputs": [
    {
     "data": {
      "text/plain": [
       "68422"
      ]
     },
     "execution_count": 34,
     "metadata": {},
     "output_type": "execute_result"
    }
   ],
   "source": [
    "len(colorectal_patient['ID'].drop_duplicates())"
   ]
  },
  {
   "cell_type": "markdown",
   "id": "polish-imaging",
   "metadata": {},
   "source": [
    "## cohort 4: breast cancer"
   ]
  },
  {
   "cell_type": "code",
   "execution_count": 35,
   "id": "built-arrival",
   "metadata": {},
   "outputs": [],
   "source": [
    "breast_patient = diagnosis.loc[diagnosis['DX'].isin(breast_cancer_icd)][['DX','ID']].drop_duplicates().reset_index(drop=True)\n",
    "#breast_patient.groupby('DX').size()"
   ]
  },
  {
   "cell_type": "code",
   "execution_count": 36,
   "id": "respiratory-training",
   "metadata": {},
   "outputs": [
    {
     "data": {
      "text/plain": [
       "117092"
      ]
     },
     "execution_count": 36,
     "metadata": {},
     "output_type": "execute_result"
    }
   ],
   "source": [
    "len(breast_patient['ID'].drop_duplicates())"
   ]
  },
  {
   "cell_type": "markdown",
   "id": "religious-eating",
   "metadata": {},
   "source": [
    "# Death date cleaning"
   ]
  },
  {
   "cell_type": "code",
   "execution_count": 40,
   "id": "physical-singles",
   "metadata": {},
   "outputs": [
    {
     "name": "stdout",
     "output_type": "stream",
     "text": [
      "20093\n",
      "105\n"
     ]
    },
    {
     "data": {
      "text/html": [
       "<div>\n",
       "<style scoped>\n",
       "    .dataframe tbody tr th:only-of-type {\n",
       "        vertical-align: middle;\n",
       "    }\n",
       "\n",
       "    .dataframe tbody tr th {\n",
       "        vertical-align: top;\n",
       "    }\n",
       "\n",
       "    .dataframe thead th {\n",
       "        text-align: right;\n",
       "    }\n",
       "</style>\n",
       "<table border=\"1\" class=\"dataframe\">\n",
       "  <thead>\n",
       "    <tr style=\"text-align: right;\">\n",
       "      <th></th>\n",
       "      <th>ID</th>\n",
       "      <th>DEATH_DATE</th>\n",
       "      <th>DEATH_DATE_IMPUTE</th>\n",
       "      <th>DEATH_SOURCE</th>\n",
       "      <th>DEATH_MATCH_CONFIDENCE</th>\n",
       "      <th>SOURCE_masked</th>\n",
       "    </tr>\n",
       "  </thead>\n",
       "  <tbody>\n",
       "    <tr>\n",
       "      <th>114</th>\n",
       "      <td>03Nov2022IRB20200313700011522</td>\n",
       "      <td>NaN</td>\n",
       "      <td>NI</td>\n",
       "      <td>L</td>\n",
       "      <td>NI</td>\n",
       "      <td>source_11</td>\n",
       "    </tr>\n",
       "    <tr>\n",
       "      <th>174</th>\n",
       "      <td>03Nov2022IRB20200313700017704</td>\n",
       "      <td>NaN</td>\n",
       "      <td>NI</td>\n",
       "      <td>L</td>\n",
       "      <td>NI</td>\n",
       "      <td>source_3</td>\n",
       "    </tr>\n",
       "    <tr>\n",
       "      <th>623</th>\n",
       "      <td>03Nov2022IRB20200313700063673</td>\n",
       "      <td>NaN</td>\n",
       "      <td>NI</td>\n",
       "      <td>L</td>\n",
       "      <td>NI</td>\n",
       "      <td>source_3</td>\n",
       "    </tr>\n",
       "    <tr>\n",
       "      <th>926</th>\n",
       "      <td>03Nov2022IRB20200313700098161</td>\n",
       "      <td>NaN</td>\n",
       "      <td>NI</td>\n",
       "      <td>L</td>\n",
       "      <td>NI</td>\n",
       "      <td>source_3</td>\n",
       "    </tr>\n",
       "    <tr>\n",
       "      <th>1275</th>\n",
       "      <td>03Nov2022IRB20200313700134247</td>\n",
       "      <td>NaN</td>\n",
       "      <td>NI</td>\n",
       "      <td>L</td>\n",
       "      <td>NI</td>\n",
       "      <td>source_3</td>\n",
       "    </tr>\n",
       "    <tr>\n",
       "      <th>...</th>\n",
       "      <td>...</td>\n",
       "      <td>...</td>\n",
       "      <td>...</td>\n",
       "      <td>...</td>\n",
       "      <td>...</td>\n",
       "      <td>...</td>\n",
       "    </tr>\n",
       "    <tr>\n",
       "      <th>19634</th>\n",
       "      <td>03Nov2022IRB20200313700217574</td>\n",
       "      <td>NaN</td>\n",
       "      <td>NI</td>\n",
       "      <td>L</td>\n",
       "      <td>NI</td>\n",
       "      <td>source_3</td>\n",
       "    </tr>\n",
       "    <tr>\n",
       "      <th>19719</th>\n",
       "      <td>03Nov2022IRB20200313700224807</td>\n",
       "      <td>NaN</td>\n",
       "      <td>NI</td>\n",
       "      <td>D</td>\n",
       "      <td>NI</td>\n",
       "      <td>source_3</td>\n",
       "    </tr>\n",
       "    <tr>\n",
       "      <th>19725</th>\n",
       "      <td>03Nov2022IRB20200313700224849</td>\n",
       "      <td>NaN</td>\n",
       "      <td>NI</td>\n",
       "      <td>L</td>\n",
       "      <td>NI</td>\n",
       "      <td>source_3</td>\n",
       "    </tr>\n",
       "    <tr>\n",
       "      <th>19962</th>\n",
       "      <td>03Nov2022IRB20200313700252121</td>\n",
       "      <td>NaN</td>\n",
       "      <td>NI</td>\n",
       "      <td>L</td>\n",
       "      <td>NI</td>\n",
       "      <td>source_11</td>\n",
       "    </tr>\n",
       "    <tr>\n",
       "      <th>19987</th>\n",
       "      <td>03Nov2022IRB20200313700252432</td>\n",
       "      <td>NaN</td>\n",
       "      <td>NI</td>\n",
       "      <td>L</td>\n",
       "      <td>NI</td>\n",
       "      <td>source_3</td>\n",
       "    </tr>\n",
       "  </tbody>\n",
       "</table>\n",
       "<p>105 rows × 6 columns</p>\n",
       "</div>"
      ],
      "text/plain": [
       "                                  ID DEATH_DATE DEATH_DATE_IMPUTE  \\\n",
       "114    03Nov2022IRB20200313700011522        NaN                NI   \n",
       "174    03Nov2022IRB20200313700017704        NaN                NI   \n",
       "623    03Nov2022IRB20200313700063673        NaN                NI   \n",
       "926    03Nov2022IRB20200313700098161        NaN                NI   \n",
       "1275   03Nov2022IRB20200313700134247        NaN                NI   \n",
       "...                              ...        ...               ...   \n",
       "19634  03Nov2022IRB20200313700217574        NaN                NI   \n",
       "19719  03Nov2022IRB20200313700224807        NaN                NI   \n",
       "19725  03Nov2022IRB20200313700224849        NaN                NI   \n",
       "19962  03Nov2022IRB20200313700252121        NaN                NI   \n",
       "19987  03Nov2022IRB20200313700252432        NaN                NI   \n",
       "\n",
       "      DEATH_SOURCE DEATH_MATCH_CONFIDENCE SOURCE_masked  \n",
       "114              L                     NI     source_11  \n",
       "174              L                     NI      source_3  \n",
       "623              L                     NI      source_3  \n",
       "926              L                     NI      source_3  \n",
       "1275             L                     NI      source_3  \n",
       "...            ...                    ...           ...  \n",
       "19634            L                     NI      source_3  \n",
       "19719            D                     NI      source_3  \n",
       "19725            L                     NI      source_3  \n",
       "19962            L                     NI     source_11  \n",
       "19987            L                     NI      source_3  \n",
       "\n",
       "[105 rows x 6 columns]"
      ]
     },
     "execution_count": 40,
     "metadata": {},
     "output_type": "execute_result"
    }
   ],
   "source": [
    "print(len(death['ID'].drop_duplicates()))\n",
    "print(sum(death['DEATH_DATE'].isna()))\n",
    "death.loc[death['DEATH_DATE'].isna()]"
   ]
  },
  {
   "cell_type": "markdown",
   "id": "valued-suicide",
   "metadata": {},
   "source": [
    "## fill missing values"
   ]
  },
  {
   "cell_type": "code",
   "execution_count": 53,
   "id": "ambient-library",
   "metadata": {},
   "outputs": [],
   "source": [
    "#fill na with large number as a placeholder\n",
    "death=death.fillna('3099-12-31')"
   ]
  },
  {
   "cell_type": "markdown",
   "id": "annual-ballot",
   "metadata": {},
   "source": [
    "## drop duplicates, caused by different data source"
   ]
  },
  {
   "cell_type": "code",
   "execution_count": 54,
   "id": "blank-bracket",
   "metadata": {},
   "outputs": [
    {
     "data": {
      "text/html": [
       "<div>\n",
       "<style scoped>\n",
       "    .dataframe tbody tr th:only-of-type {\n",
       "        vertical-align: middle;\n",
       "    }\n",
       "\n",
       "    .dataframe tbody tr th {\n",
       "        vertical-align: top;\n",
       "    }\n",
       "\n",
       "    .dataframe thead th {\n",
       "        text-align: right;\n",
       "    }\n",
       "</style>\n",
       "<table border=\"1\" class=\"dataframe\">\n",
       "  <thead>\n",
       "    <tr style=\"text-align: right;\">\n",
       "      <th></th>\n",
       "      <th>ID</th>\n",
       "      <th>DEATH_DATE</th>\n",
       "    </tr>\n",
       "  </thead>\n",
       "  <tbody>\n",
       "    <tr>\n",
       "      <th>0</th>\n",
       "      <td>03Nov2022IRB20200313700058952</td>\n",
       "      <td>2</td>\n",
       "    </tr>\n",
       "    <tr>\n",
       "      <th>1</th>\n",
       "      <td>03Nov2022IRB20200313700220221</td>\n",
       "      <td>2</td>\n",
       "    </tr>\n",
       "    <tr>\n",
       "      <th>2</th>\n",
       "      <td>03Nov2022IRB20200313700003785</td>\n",
       "      <td>2</td>\n",
       "    </tr>\n",
       "    <tr>\n",
       "      <th>3</th>\n",
       "      <td>03Nov2022IRB20200313700012221</td>\n",
       "      <td>2</td>\n",
       "    </tr>\n",
       "    <tr>\n",
       "      <th>4</th>\n",
       "      <td>03Nov2022IRB20200313700252007</td>\n",
       "      <td>2</td>\n",
       "    </tr>\n",
       "    <tr>\n",
       "      <th>...</th>\n",
       "      <td>...</td>\n",
       "      <td>...</td>\n",
       "    </tr>\n",
       "    <tr>\n",
       "      <th>20088</th>\n",
       "      <td>03Nov2022IRB20200313700087767</td>\n",
       "      <td>1</td>\n",
       "    </tr>\n",
       "    <tr>\n",
       "      <th>20089</th>\n",
       "      <td>03Nov2022IRB20200313700087750</td>\n",
       "      <td>1</td>\n",
       "    </tr>\n",
       "    <tr>\n",
       "      <th>20090</th>\n",
       "      <td>03Nov2022IRB20200313700087748</td>\n",
       "      <td>1</td>\n",
       "    </tr>\n",
       "    <tr>\n",
       "      <th>20091</th>\n",
       "      <td>03Nov2022IRB20200313700087742</td>\n",
       "      <td>1</td>\n",
       "    </tr>\n",
       "    <tr>\n",
       "      <th>20092</th>\n",
       "      <td>03Nov2022IRB20200313700261816</td>\n",
       "      <td>1</td>\n",
       "    </tr>\n",
       "  </tbody>\n",
       "</table>\n",
       "<p>20093 rows × 2 columns</p>\n",
       "</div>"
      ],
      "text/plain": [
       "                                  ID  DEATH_DATE\n",
       "0      03Nov2022IRB20200313700058952           2\n",
       "1      03Nov2022IRB20200313700220221           2\n",
       "2      03Nov2022IRB20200313700003785           2\n",
       "3      03Nov2022IRB20200313700012221           2\n",
       "4      03Nov2022IRB20200313700252007           2\n",
       "...                              ...         ...\n",
       "20088  03Nov2022IRB20200313700087767           1\n",
       "20089  03Nov2022IRB20200313700087750           1\n",
       "20090  03Nov2022IRB20200313700087748           1\n",
       "20091  03Nov2022IRB20200313700087742           1\n",
       "20092  03Nov2022IRB20200313700261816           1\n",
       "\n",
       "[20093 rows x 2 columns]"
      ]
     },
     "execution_count": 54,
     "metadata": {},
     "output_type": "execute_result"
    }
   ],
   "source": [
    "#all have only 1 death date\n",
    "death[['ID','DEATH_DATE']].groupby('ID').count().sort_values('DEATH_DATE',ascending=False).reset_index()"
   ]
  },
  {
   "cell_type": "code",
   "execution_count": 55,
   "id": "pediatric-stock",
   "metadata": {},
   "outputs": [],
   "source": [
    "#take the earlier death date\n",
    "death_date = death[['ID','DEATH_DATE']].groupby('ID').agg({'DEATH_DATE':'min'}).reset_index()"
   ]
  },
  {
   "cell_type": "code",
   "execution_count": 58,
   "id": "overall-detector",
   "metadata": {},
   "outputs": [
    {
     "data": {
      "text/html": [
       "<div>\n",
       "<style scoped>\n",
       "    .dataframe tbody tr th:only-of-type {\n",
       "        vertical-align: middle;\n",
       "    }\n",
       "\n",
       "    .dataframe tbody tr th {\n",
       "        vertical-align: top;\n",
       "    }\n",
       "\n",
       "    .dataframe thead th {\n",
       "        text-align: right;\n",
       "    }\n",
       "</style>\n",
       "<table border=\"1\" class=\"dataframe\">\n",
       "  <thead>\n",
       "    <tr style=\"text-align: right;\">\n",
       "      <th></th>\n",
       "      <th>ID</th>\n",
       "      <th>DEATH_DATE</th>\n",
       "    </tr>\n",
       "  </thead>\n",
       "  <tbody>\n",
       "    <tr>\n",
       "      <th>222</th>\n",
       "      <td>03Nov2022IRB20200313700002790</td>\n",
       "      <td>3099-12-31</td>\n",
       "    </tr>\n",
       "    <tr>\n",
       "      <th>334</th>\n",
       "      <td>03Nov2022IRB20200313700004133</td>\n",
       "      <td>3099-12-31</td>\n",
       "    </tr>\n",
       "    <tr>\n",
       "      <th>913</th>\n",
       "      <td>03Nov2022IRB20200313700011522</td>\n",
       "      <td>3099-12-31</td>\n",
       "    </tr>\n",
       "    <tr>\n",
       "      <th>948</th>\n",
       "      <td>03Nov2022IRB20200313700011920</td>\n",
       "      <td>3099-12-31</td>\n",
       "    </tr>\n",
       "    <tr>\n",
       "      <th>976</th>\n",
       "      <td>03Nov2022IRB20200313700012401</td>\n",
       "      <td>3099-12-31</td>\n",
       "    </tr>\n",
       "    <tr>\n",
       "      <th>...</th>\n",
       "      <td>...</td>\n",
       "      <td>...</td>\n",
       "    </tr>\n",
       "    <tr>\n",
       "      <th>19549</th>\n",
       "      <td>03Nov2022IRB20200313700254437</td>\n",
       "      <td>3099-12-31</td>\n",
       "    </tr>\n",
       "    <tr>\n",
       "      <th>19601</th>\n",
       "      <td>03Nov2022IRB20200313700255293</td>\n",
       "      <td>3099-12-31</td>\n",
       "    </tr>\n",
       "    <tr>\n",
       "      <th>19716</th>\n",
       "      <td>03Nov2022IRB20200313700256826</td>\n",
       "      <td>3099-12-31</td>\n",
       "    </tr>\n",
       "    <tr>\n",
       "      <th>19742</th>\n",
       "      <td>03Nov2022IRB20200313700257150</td>\n",
       "      <td>3099-12-31</td>\n",
       "    </tr>\n",
       "    <tr>\n",
       "      <th>19991</th>\n",
       "      <td>03Nov2022IRB20200313700260268</td>\n",
       "      <td>3099-12-31</td>\n",
       "    </tr>\n",
       "  </tbody>\n",
       "</table>\n",
       "<p>105 rows × 2 columns</p>\n",
       "</div>"
      ],
      "text/plain": [
       "                                  ID  DEATH_DATE\n",
       "222    03Nov2022IRB20200313700002790  3099-12-31\n",
       "334    03Nov2022IRB20200313700004133  3099-12-31\n",
       "913    03Nov2022IRB20200313700011522  3099-12-31\n",
       "948    03Nov2022IRB20200313700011920  3099-12-31\n",
       "976    03Nov2022IRB20200313700012401  3099-12-31\n",
       "...                              ...         ...\n",
       "19549  03Nov2022IRB20200313700254437  3099-12-31\n",
       "19601  03Nov2022IRB20200313700255293  3099-12-31\n",
       "19716  03Nov2022IRB20200313700256826  3099-12-31\n",
       "19742  03Nov2022IRB20200313700257150  3099-12-31\n",
       "19991  03Nov2022IRB20200313700260268  3099-12-31\n",
       "\n",
       "[105 rows x 2 columns]"
      ]
     },
     "execution_count": 58,
     "metadata": {},
     "output_type": "execute_result"
    }
   ],
   "source": [
    "death_date.loc[death_date['DEATH_DATE']=='3099-12-31']"
   ]
  },
  {
   "cell_type": "code",
   "execution_count": 65,
   "id": "medieval-replication",
   "metadata": {},
   "outputs": [
    {
     "name": "stdout",
     "output_type": "stream",
     "text": [
      "0\n"
     ]
    }
   ],
   "source": [
    "#replace placeholder back to N.A. But the reason why there's n.a. death date in death dataset is unknow.\n",
    "death_date['DEATH_DATE'] = np.where(death_date['DEATH_DATE']=='3099-12-31',np.nan,death_date['DEATH_DATE'])\n",
    "print(len(death_date.loc[death_date['DEATH_DATE']=='3099-12-31']))"
   ]
  },
  {
   "cell_type": "markdown",
   "id": "contained-desert",
   "metadata": {},
   "source": [
    "## match cleaned death date with cohorts"
   ]
  },
  {
   "cell_type": "code",
   "execution_count": 66,
   "id": "smoking-nylon",
   "metadata": {},
   "outputs": [],
   "source": [
    "lung_patient = pd.merge(pd.merge(lung_patient,death_date,on='ID',how='left'),index_date,on='ID',how='left')"
   ]
  },
  {
   "cell_type": "code",
   "execution_count": 67,
   "id": "aggressive-centre",
   "metadata": {},
   "outputs": [],
   "source": [
    "colorectal_patient = pd.merge(pd.merge(colorectal_patient,death_date,on='ID',how='left'),index_date,on='ID',how='left')"
   ]
  },
  {
   "cell_type": "code",
   "execution_count": 68,
   "id": "backed-riding",
   "metadata": {},
   "outputs": [],
   "source": [
    "breast_patient = pd.merge(pd.merge(breast_patient,death_date,on='ID',how='left'),index_date,on='ID',how='left')"
   ]
  },
  {
   "cell_type": "markdown",
   "id": "directed-catholic",
   "metadata": {},
   "source": [
    "## calculate the number of patients die after 5 years.(used in the execel spreadsheet)"
   ]
  },
  {
   "cell_type": "code",
   "execution_count": 72,
   "id": "imposed-headline",
   "metadata": {},
   "outputs": [],
   "source": [
    "lung_death = lung_patient[['ID','index_date','DEATH_DATE']].drop_duplicates().reset_index()"
   ]
  },
  {
   "cell_type": "code",
   "execution_count": 73,
   "id": "indian-casting",
   "metadata": {},
   "outputs": [],
   "source": [
    "colorectal_death = colorectal_patient[['ID','index_date','DEATH_DATE']].drop_duplicates().reset_index()"
   ]
  },
  {
   "cell_type": "code",
   "execution_count": 74,
   "id": "insured-fossil",
   "metadata": {},
   "outputs": [],
   "source": [
    "breast_death = breast_patient[['ID','index_date','DEATH_DATE']].drop_duplicates().reset_index()"
   ]
  },
  {
   "cell_type": "code",
   "execution_count": 75,
   "id": "forty-browse",
   "metadata": {},
   "outputs": [],
   "source": [
    "#add an index column of 5 years\n",
    "lung_death['year5']=pd.to_datetime(lung_death['index_date'])+pd.DateOffset(years=5)\n",
    "colorectal_death['year5']=pd.to_datetime(colorectal_death['index_date'])+pd.DateOffset(years=5)\n",
    "breast_death['year5']=pd.to_datetime(breast_death['index_date'])+pd.DateOffset(years=5)"
   ]
  },
  {
   "cell_type": "code",
   "execution_count": 83,
   "id": "progressive-shame",
   "metadata": {},
   "outputs": [
    {
     "name": "stdout",
     "output_type": "stream",
     "text": [
      "number of lung cancer patient who died: 11326\n"
     ]
    }
   ],
   "source": [
    "print('number of lung cancer patient who died: '+str(len(lung_death.loc[~lung_death['DEATH_DATE'].isna()])))"
   ]
  },
  {
   "cell_type": "code",
   "execution_count": 85,
   "id": "spiritual-courtesy",
   "metadata": {},
   "outputs": [
    {
     "name": "stdout",
     "output_type": "stream",
     "text": [
      "number of colorectal cancer patient who died: 5332\n"
     ]
    }
   ],
   "source": [
    "print('number of colorectal cancer patient who died: '+str(len(colorectal_death.loc[~colorectal_death['DEATH_DATE'].isna()])))"
   ]
  },
  {
   "cell_type": "code",
   "execution_count": 86,
   "id": "federal-timothy",
   "metadata": {},
   "outputs": [
    {
     "name": "stdout",
     "output_type": "stream",
     "text": [
      "number of breast cancer patient who died: 4908\n"
     ]
    }
   ],
   "source": [
    "print('number of breast cancer patient who died: '+str(len(breast_death.loc[~breast_death['DEATH_DATE'].isna()])))"
   ]
  },
  {
   "cell_type": "code",
   "execution_count": 87,
   "id": "discrete-gossip",
   "metadata": {},
   "outputs": [
    {
     "name": "stdout",
     "output_type": "stream",
     "text": [
      "number of lung cancer patient who died with in 5 years: 10652\n"
     ]
    }
   ],
   "source": [
    "print('number of lung cancer patient who died with in 5 years: '+str(len(lung_death.loc[(~lung_death['DEATH_DATE'].isna())&(lung_death['year5']>=pd.to_datetime(lung_death['DEATH_DATE']))])))"
   ]
  },
  {
   "cell_type": "code",
   "execution_count": 88,
   "id": "extensive-rates",
   "metadata": {},
   "outputs": [
    {
     "name": "stdout",
     "output_type": "stream",
     "text": [
      "number of colorectal cancer patient who died with in 5 years: 4768\n"
     ]
    }
   ],
   "source": [
    "print('number of colorectal cancer patient who died with in 5 years: '+str(len(colorectal_death.loc[(~colorectal_death['DEATH_DATE'].isna())&(colorectal_death['year5']>=pd.to_datetime(colorectal_death['DEATH_DATE']))])))"
   ]
  },
  {
   "cell_type": "code",
   "execution_count": 89,
   "id": "expensive-sector",
   "metadata": {},
   "outputs": [
    {
     "name": "stdout",
     "output_type": "stream",
     "text": [
      "number of colorectal cancer patient who died with in 5 years: 3951\n"
     ]
    }
   ],
   "source": [
    "print('number of colorectal cancer patient who died with in 5 years: '+str(len(breast_death.loc[(~breast_death['DEATH_DATE'].isna())&(breast_death['year5']>=pd.to_datetime(breast_death['DEATH_DATE']))])))"
   ]
  },
  {
   "cell_type": "markdown",
   "id": "elder-tonight",
   "metadata": {},
   "source": [
    "# Preprocessing - Pair demographics & index date to lab results"
   ]
  },
  {
   "cell_type": "code",
   "execution_count": 91,
   "id": "minus-teens",
   "metadata": {},
   "outputs": [
    {
     "name": "stdout",
     "output_type": "stream",
     "text": [
      "Index(['LAB_RESULT_CM_ID', 'ID', 'ENCOUNTERID', 'SPECIMEN_SOURCE', 'LAB_LOINC',\n",
      "       'LAB_RESULT_SOURCE', 'LAB_LOINC_SOURCE', 'PRIORITY', 'RESULT_LOC',\n",
      "       'LAB_PX', 'LAB_PX_TYPE', 'LAB_ORDER_DATE', 'SPECIMEN_DATE',\n",
      "       'SPECIMEN_TIME', 'RESULT_DATE', 'RESULT_TIME', 'RESULT_QUAL',\n",
      "       'RESULT_SNOMED', 'RESULT_NUM', 'RESULT_MODIFIER', 'RESULT_UNIT',\n",
      "       'NORM_RANGE_LOW', 'NORM_MODIFIER_LOW', 'NORM_RANGE_HIGH',\n",
      "       'NORM_MODIFIER_HIGH', 'ABN_IND', 'SOURCE_masked'],\n",
      "      dtype='object')\n"
     ]
    },
    {
     "data": {
      "text/html": [
       "<div>\n",
       "<style scoped>\n",
       "    .dataframe tbody tr th:only-of-type {\n",
       "        vertical-align: middle;\n",
       "    }\n",
       "\n",
       "    .dataframe tbody tr th {\n",
       "        vertical-align: top;\n",
       "    }\n",
       "\n",
       "    .dataframe thead th {\n",
       "        text-align: right;\n",
       "    }\n",
       "</style>\n",
       "<table border=\"1\" class=\"dataframe\">\n",
       "  <thead>\n",
       "    <tr style=\"text-align: right;\">\n",
       "      <th></th>\n",
       "      <th>LAB_RESULT_CM_ID</th>\n",
       "      <th>ID</th>\n",
       "      <th>ENCOUNTERID</th>\n",
       "      <th>SPECIMEN_SOURCE</th>\n",
       "      <th>LAB_LOINC</th>\n",
       "      <th>LAB_RESULT_SOURCE</th>\n",
       "      <th>LAB_LOINC_SOURCE</th>\n",
       "      <th>PRIORITY</th>\n",
       "      <th>RESULT_LOC</th>\n",
       "      <th>LAB_PX</th>\n",
       "      <th>...</th>\n",
       "      <th>RESULT_SNOMED</th>\n",
       "      <th>RESULT_NUM</th>\n",
       "      <th>RESULT_MODIFIER</th>\n",
       "      <th>RESULT_UNIT</th>\n",
       "      <th>NORM_RANGE_LOW</th>\n",
       "      <th>NORM_MODIFIER_LOW</th>\n",
       "      <th>NORM_RANGE_HIGH</th>\n",
       "      <th>NORM_MODIFIER_HIGH</th>\n",
       "      <th>ABN_IND</th>\n",
       "      <th>SOURCE_masked</th>\n",
       "    </tr>\n",
       "  </thead>\n",
       "  <tbody>\n",
       "    <tr>\n",
       "      <th>0</th>\n",
       "      <td>cfhOcbEKSlSqrw28</td>\n",
       "      <td>03Nov2022IRB20200313700112267</td>\n",
       "      <td>cfhOdr8FS1Oooww=</td>\n",
       "      <td>SER_PLAS</td>\n",
       "      <td>2823-3</td>\n",
       "      <td>OD</td>\n",
       "      <td>DW</td>\n",
       "      <td>R</td>\n",
       "      <td>L</td>\n",
       "      <td>LAB17</td>\n",
       "      <td>...</td>\n",
       "      <td>NaN</td>\n",
       "      <td>4.1</td>\n",
       "      <td>EQ</td>\n",
       "      <td>mmol/L</td>\n",
       "      <td>3.3</td>\n",
       "      <td>EQ</td>\n",
       "      <td>5.1</td>\n",
       "      <td>EQ</td>\n",
       "      <td>NI</td>\n",
       "      <td>source_3</td>\n",
       "    </tr>\n",
       "    <tr>\n",
       "      <th>1</th>\n",
       "      <td>cfhOcbEKSlSqrwC7</td>\n",
       "      <td>03Nov2022IRB20200313700244847</td>\n",
       "      <td>cfhOdr8ESFCsrgE=</td>\n",
       "      <td>SER_PLAS</td>\n",
       "      <td>2885-2</td>\n",
       "      <td>OD</td>\n",
       "      <td>DW</td>\n",
       "      <td>R</td>\n",
       "      <td>L</td>\n",
       "      <td>LAB17</td>\n",
       "      <td>...</td>\n",
       "      <td>NaN</td>\n",
       "      <td>6.9</td>\n",
       "      <td>EQ</td>\n",
       "      <td>g/dL</td>\n",
       "      <td>6.1</td>\n",
       "      <td>EQ</td>\n",
       "      <td>8.1</td>\n",
       "      <td>EQ</td>\n",
       "      <td>NI</td>\n",
       "      <td>source_3</td>\n",
       "    </tr>\n",
       "    <tr>\n",
       "      <th>2</th>\n",
       "      <td>cfhOcbEKSlSqrwe4</td>\n",
       "      <td>03Nov2022IRB20200313700180880</td>\n",
       "      <td>cfhOdr8FS16gogE=</td>\n",
       "      <td>SER_PLAS</td>\n",
       "      <td>10466-1</td>\n",
       "      <td>OD</td>\n",
       "      <td>DW</td>\n",
       "      <td>S</td>\n",
       "      <td>L</td>\n",
       "      <td>LAB15</td>\n",
       "      <td>...</td>\n",
       "      <td>NaN</td>\n",
       "      <td>10.0</td>\n",
       "      <td>EQ</td>\n",
       "      <td>mmol/L</td>\n",
       "      <td>8</td>\n",
       "      <td>EQ</td>\n",
       "      <td>16</td>\n",
       "      <td>EQ</td>\n",
       "      <td>NI</td>\n",
       "      <td>source_3</td>\n",
       "    </tr>\n",
       "    <tr>\n",
       "      <th>3</th>\n",
       "      <td>cfhOcbEKSlSqrwG6</td>\n",
       "      <td>03Nov2022IRB20200313700167813</td>\n",
       "      <td>cfhOdr8FSVGoqgc=</td>\n",
       "      <td>BLD</td>\n",
       "      <td>787-2</td>\n",
       "      <td>OD</td>\n",
       "      <td>DW</td>\n",
       "      <td>R</td>\n",
       "      <td>L</td>\n",
       "      <td>LAB123294</td>\n",
       "      <td>...</td>\n",
       "      <td>NaN</td>\n",
       "      <td>86.6</td>\n",
       "      <td>EQ</td>\n",
       "      <td>fL</td>\n",
       "      <td>82.0</td>\n",
       "      <td>EQ</td>\n",
       "      <td>101.0</td>\n",
       "      <td>EQ</td>\n",
       "      <td>NI</td>\n",
       "      <td>source_3</td>\n",
       "    </tr>\n",
       "    <tr>\n",
       "      <th>4</th>\n",
       "      <td>cfhOcbEKSlSqrwK7</td>\n",
       "      <td>03Nov2022IRB20200313700193361</td>\n",
       "      <td>cfhOdr8ESlesqw0=</td>\n",
       "      <td>BLD</td>\n",
       "      <td>2339-0</td>\n",
       "      <td>OD</td>\n",
       "      <td>DW</td>\n",
       "      <td>R</td>\n",
       "      <td>L</td>\n",
       "      <td>LAB43790</td>\n",
       "      <td>...</td>\n",
       "      <td>NaN</td>\n",
       "      <td>197.0</td>\n",
       "      <td>EQ</td>\n",
       "      <td>mg/dL</td>\n",
       "      <td>65</td>\n",
       "      <td>EQ</td>\n",
       "      <td>99</td>\n",
       "      <td>EQ</td>\n",
       "      <td>AH</td>\n",
       "      <td>source_3</td>\n",
       "    </tr>\n",
       "  </tbody>\n",
       "</table>\n",
       "<p>5 rows × 27 columns</p>\n",
       "</div>"
      ],
      "text/plain": [
       "   LAB_RESULT_CM_ID                             ID       ENCOUNTERID  \\\n",
       "0  cfhOcbEKSlSqrw28  03Nov2022IRB20200313700112267  cfhOdr8FS1Oooww=   \n",
       "1  cfhOcbEKSlSqrwC7  03Nov2022IRB20200313700244847  cfhOdr8ESFCsrgE=   \n",
       "2  cfhOcbEKSlSqrwe4  03Nov2022IRB20200313700180880  cfhOdr8FS16gogE=   \n",
       "3  cfhOcbEKSlSqrwG6  03Nov2022IRB20200313700167813  cfhOdr8FSVGoqgc=   \n",
       "4  cfhOcbEKSlSqrwK7  03Nov2022IRB20200313700193361  cfhOdr8ESlesqw0=   \n",
       "\n",
       "  SPECIMEN_SOURCE LAB_LOINC LAB_RESULT_SOURCE LAB_LOINC_SOURCE PRIORITY  \\\n",
       "0        SER_PLAS    2823-3                OD               DW        R   \n",
       "1        SER_PLAS    2885-2                OD               DW        R   \n",
       "2        SER_PLAS   10466-1                OD               DW        S   \n",
       "3             BLD     787-2                OD               DW        R   \n",
       "4             BLD    2339-0                OD               DW        R   \n",
       "\n",
       "  RESULT_LOC     LAB_PX  ... RESULT_SNOMED RESULT_NUM RESULT_MODIFIER  \\\n",
       "0          L      LAB17  ...           NaN        4.1              EQ   \n",
       "1          L      LAB17  ...           NaN        6.9              EQ   \n",
       "2          L      LAB15  ...           NaN       10.0              EQ   \n",
       "3          L  LAB123294  ...           NaN       86.6              EQ   \n",
       "4          L   LAB43790  ...           NaN      197.0              EQ   \n",
       "\n",
       "  RESULT_UNIT NORM_RANGE_LOW NORM_MODIFIER_LOW NORM_RANGE_HIGH  \\\n",
       "0      mmol/L            3.3                EQ             5.1   \n",
       "1        g/dL            6.1                EQ             8.1   \n",
       "2      mmol/L              8                EQ              16   \n",
       "3          fL           82.0                EQ           101.0   \n",
       "4       mg/dL             65                EQ              99   \n",
       "\n",
       "  NORM_MODIFIER_HIGH  ABN_IND SOURCE_masked  \n",
       "0                 EQ       NI      source_3  \n",
       "1                 EQ       NI      source_3  \n",
       "2                 EQ       NI      source_3  \n",
       "3                 EQ       NI      source_3  \n",
       "4                 EQ       AH      source_3  \n",
       "\n",
       "[5 rows x 27 columns]"
      ]
     },
     "execution_count": 91,
     "metadata": {},
     "output_type": "execute_result"
    }
   ],
   "source": [
    "## check structure\n",
    "print(lab_result_cm.columns)\n",
    "lab_result_cm.head()"
   ]
  },
  {
   "cell_type": "code",
   "execution_count": 92,
   "id": "loved-detective",
   "metadata": {},
   "outputs": [
    {
     "data": {
      "text/plain": [
       "4586"
      ]
     },
     "execution_count": 92,
     "metadata": {},
     "output_type": "execute_result"
    }
   ],
   "source": [
    "#total number of LOINC types\n",
    "len(lab_result_cm[['LAB_LOINC']].drop_duplicates())"
   ]
  },
  {
   "cell_type": "markdown",
   "id": "immune-range",
   "metadata": {},
   "source": [
    "## cleaning `demographics` and `index_date`"
   ]
  },
  {
   "cell_type": "code",
   "execution_count": 93,
   "id": "behind-hungary",
   "metadata": {},
   "outputs": [],
   "source": [
    "#pair demographics and index date\n",
    "demographics = pd.merge(demographics,index_date,left_on='ID',right_on='ID',how='inner')"
   ]
  },
  {
   "cell_type": "code",
   "execution_count": 94,
   "id": "quiet-thermal",
   "metadata": {},
   "outputs": [],
   "source": [
    "#keep only those useful ones\n",
    "demographics = demographics[['ID', 'BIRTH_DATE', 'SEX', 'HISPANIC', 'RACE', 'ZIP_CODE', 'index_date']]"
   ]
  },
  {
   "cell_type": "code",
   "execution_count": 95,
   "id": "static-travel",
   "metadata": {},
   "outputs": [],
   "source": [
    "#convert datetime type\n",
    "demographics['BIRTH_DATE']=pd.to_datetime(demographics['BIRTH_DATE'])\n",
    "demographics['index_date']=pd.to_datetime(demographics['index_date'])"
   ]
  },
  {
   "cell_type": "code",
   "execution_count": 96,
   "id": "absolute-ecuador",
   "metadata": {},
   "outputs": [],
   "source": [
    "#truncate zipcode to only 5 characters for uniformity\n",
    "demographics['ZIP_CODE'] = demographics['ZIP_CODE'].str.slice(0,5)"
   ]
  },
  {
   "cell_type": "code",
   "execution_count": 97,
   "id": "silver-plane",
   "metadata": {},
   "outputs": [],
   "source": [
    "#define function for calculating ages\n",
    "def calc_age(born_d,index_d):\n",
    "   return index_d.year - born_d.year - ((index_d.month, \n",
    "                                      index_d.day) < (born_d.month, \n",
    "                                                    born_d.day))"
   ]
  },
  {
   "cell_type": "code",
   "execution_count": 98,
   "id": "ready-static",
   "metadata": {},
   "outputs": [],
   "source": [
    "#calculate age at diagnosis (index_date provided)\n",
    "demographics['index_age'] = demographics.swifter.apply(lambda x: calc_age(x.BIRTH_DATE, x.index_date), axis=1)"
   ]
  },
  {
   "cell_type": "code",
   "execution_count": 99,
   "id": "introductory-education",
   "metadata": {},
   "outputs": [],
   "source": [
    "#calculate study range, 6~2 years before index date\n",
    "demographics['study_range_min'] = demographics['index_date'] - pd.DateOffset(years=6)\n",
    "demographics['study_range_max'] = demographics['index_date'] - pd.DateOffset(years=2)\n",
    "demographics['study_range_max_1'] = demographics['index_date'] - pd.DateOffset(years=1)\n",
    "demographics['study_range_max_05'] = demographics['index_date'] - pd.DateOffset(months=6)"
   ]
  },
  {
   "cell_type": "code",
   "execution_count": 101,
   "id": "backed-laptop",
   "metadata": {},
   "outputs": [
    {
     "data": {
      "text/html": [
       "<div>\n",
       "<style scoped>\n",
       "    .dataframe tbody tr th:only-of-type {\n",
       "        vertical-align: middle;\n",
       "    }\n",
       "\n",
       "    .dataframe tbody tr th {\n",
       "        vertical-align: top;\n",
       "    }\n",
       "\n",
       "    .dataframe thead th {\n",
       "        text-align: right;\n",
       "    }\n",
       "</style>\n",
       "<table border=\"1\" class=\"dataframe\">\n",
       "  <thead>\n",
       "    <tr style=\"text-align: right;\">\n",
       "      <th></th>\n",
       "      <th>ID</th>\n",
       "      <th>BIRTH_DATE</th>\n",
       "      <th>SEX</th>\n",
       "      <th>HISPANIC</th>\n",
       "      <th>RACE</th>\n",
       "      <th>ZIP_CODE</th>\n",
       "      <th>index_date</th>\n",
       "      <th>index_age</th>\n",
       "      <th>study_range_min</th>\n",
       "      <th>study_range_max</th>\n",
       "      <th>study_range_max_1</th>\n",
       "      <th>study_range_max_05</th>\n",
       "    </tr>\n",
       "  </thead>\n",
       "  <tbody>\n",
       "    <tr>\n",
       "      <th>0</th>\n",
       "      <td>03Nov2022IRB20200313700102206</td>\n",
       "      <td>1961-10-15</td>\n",
       "      <td>F</td>\n",
       "      <td>Y</td>\n",
       "      <td>05</td>\n",
       "      <td>32312</td>\n",
       "      <td>2014-04-07</td>\n",
       "      <td>52</td>\n",
       "      <td>2008-04-07</td>\n",
       "      <td>2012-04-07</td>\n",
       "      <td>2013-04-07</td>\n",
       "      <td>2013-10-07</td>\n",
       "    </tr>\n",
       "    <tr>\n",
       "      <th>1</th>\n",
       "      <td>03Nov2022IRB20200313700159940</td>\n",
       "      <td>1941-10-15</td>\n",
       "      <td>F</td>\n",
       "      <td>N</td>\n",
       "      <td>05</td>\n",
       "      <td>32310</td>\n",
       "      <td>2019-05-25</td>\n",
       "      <td>77</td>\n",
       "      <td>2013-05-25</td>\n",
       "      <td>2017-05-25</td>\n",
       "      <td>2018-05-25</td>\n",
       "      <td>2018-11-25</td>\n",
       "    </tr>\n",
       "  </tbody>\n",
       "</table>\n",
       "</div>"
      ],
      "text/plain": [
       "                              ID BIRTH_DATE SEX HISPANIC RACE ZIP_CODE  \\\n",
       "0  03Nov2022IRB20200313700102206 1961-10-15   F        Y   05    32312   \n",
       "1  03Nov2022IRB20200313700159940 1941-10-15   F        N   05    32310   \n",
       "\n",
       "  index_date  index_age study_range_min study_range_max study_range_max_1  \\\n",
       "0 2014-04-07         52      2008-04-07      2012-04-07        2013-04-07   \n",
       "1 2019-05-25         77      2013-05-25      2017-05-25        2018-05-25   \n",
       "\n",
       "  study_range_max_05  \n",
       "0         2013-10-07  \n",
       "1         2018-11-25  "
      ]
     },
     "execution_count": 101,
     "metadata": {},
     "output_type": "execute_result"
    }
   ],
   "source": [
    "demographics.head(2)"
   ]
  },
  {
   "cell_type": "markdown",
   "id": "enormous-label",
   "metadata": {},
   "source": [
    "## start paring `demographics`, `index_date`,`death`, and `lab`"
   ]
  },
  {
   "cell_type": "code",
   "execution_count": 130,
   "id": "danish-raising",
   "metadata": {},
   "outputs": [
    {
     "name": "stdout",
     "output_type": "stream",
     "text": [
      "(76978078, 27)\n",
      "(76978078, 38)\n"
     ]
    }
   ],
   "source": [
    "#pair demographics\n",
    "print(lab_result_cm.shape)\n",
    "lab_result_cm_paired = pd.merge(lab_result_cm,demographics,left_on='ID',right_on='ID',how='left')\n",
    "print(lab_result_cm_paired.shape)"
   ]
  },
  {
   "cell_type": "code",
   "execution_count": 131,
   "id": "rubber-accent",
   "metadata": {},
   "outputs": [
    {
     "name": "stdout",
     "output_type": "stream",
     "text": [
      "(76978078, 39)\n"
     ]
    }
   ],
   "source": [
    "lab_result_cm_paired = pd.merge(lab_result_cm_paired,death_date,left_on='ID',right_on='ID',how='left')\n",
    "print(lab_result_cm_paired.shape)"
   ]
  },
  {
   "cell_type": "code",
   "execution_count": 132,
   "id": "little-worry",
   "metadata": {},
   "outputs": [
    {
     "data": {
      "text/plain": [
       "20117"
      ]
     },
     "execution_count": 132,
     "metadata": {},
     "output_type": "execute_result"
    }
   ],
   "source": [
    "len(death['ID'])"
   ]
  },
  {
   "cell_type": "code",
   "execution_count": 133,
   "id": "republican-valley",
   "metadata": {},
   "outputs": [
    {
     "data": {
      "text/plain": [
       "20093"
      ]
     },
     "execution_count": 133,
     "metadata": {},
     "output_type": "execute_result"
    }
   ],
   "source": [
    "len(set(death['ID']))"
   ]
  },
  {
   "cell_type": "code",
   "execution_count": 134,
   "id": "meaning-california",
   "metadata": {},
   "outputs": [],
   "source": [
    "#define a faster version of np.isin(.)\n",
    "@nb.jit(parallel=True)\n",
    "def is_in_set_pnb(a, b):\n",
    "    shape = a.shape\n",
    "    a = a.ravel()\n",
    "    n = len(a)\n",
    "    result = np.full(n, False)\n",
    "    set_b = set(b)\n",
    "    for i in nb.prange(n):\n",
    "        if a[i] in set_b:\n",
    "            result[i] = True\n",
    "    return result.reshape(shape)"
   ]
  },
  {
   "cell_type": "code",
   "execution_count": 173,
   "id": "illegal-bosnia",
   "metadata": {},
   "outputs": [],
   "source": [
    "#tagging. This will be used in figures.\n",
    "lab_result_cm_paired['IF_any3cancer'] = np.where(is_in_set_pnb(lab_result_cm_paired['ID'],all3_patient['ID']),1,0)\n",
    "lab_result_cm_paired['BreastCancer'] = np.where(is_in_set_pnb(lab_result_cm_paired['ID'],breast_patient['ID']),1,0)\n",
    "lab_result_cm_paired['ColorectalCancer'] = np.where(is_in_set_pnb(lab_result_cm_paired['ID'],colorectal_patient['ID']),1,0)\n",
    "lab_result_cm_paired['LungCancer'] = np.where(is_in_set_pnb(lab_result_cm_paired['ID'],lung_patient['ID']),1,0)"
   ]
  },
  {
   "cell_type": "code",
   "execution_count": 136,
   "id": "bridal-documentation",
   "metadata": {},
   "outputs": [
    {
     "name": "stdout",
     "output_type": "stream",
     "text": [
      "(76978078, 43)\n",
      "(76978078, 27)\n",
      "Index(['LAB_RESULT_CM_ID', 'ID', 'ENCOUNTERID', 'SPECIMEN_SOURCE', 'LAB_LOINC',\n",
      "       'LAB_RESULT_SOURCE', 'LAB_LOINC_SOURCE', 'PRIORITY', 'RESULT_LOC',\n",
      "       'LAB_PX', 'LAB_PX_TYPE', 'LAB_ORDER_DATE', 'SPECIMEN_DATE',\n",
      "       'SPECIMEN_TIME', 'RESULT_DATE', 'RESULT_TIME', 'RESULT_QUAL',\n",
      "       'RESULT_SNOMED', 'RESULT_NUM', 'RESULT_MODIFIER', 'RESULT_UNIT',\n",
      "       'NORM_RANGE_LOW', 'NORM_MODIFIER_LOW', 'NORM_RANGE_HIGH',\n",
      "       'NORM_MODIFIER_HIGH', 'ABN_IND', 'SOURCE_masked', 'BIRTH_DATE', 'SEX',\n",
      "       'HISPANIC', 'RACE', 'ZIP_CODE', 'index_date', 'index_age',\n",
      "       'study_range_min', 'study_range_max', 'study_range_max_1',\n",
      "       'study_range_max_05', 'DEATH_DATE', 'IF_any3cancer', 'IF_breastcancer',\n",
      "       'IF_colorectalcancer', 'IF_lungcancer'],\n",
      "      dtype='object')\n"
     ]
    },
    {
     "data": {
      "text/html": [
       "<div>\n",
       "<style scoped>\n",
       "    .dataframe tbody tr th:only-of-type {\n",
       "        vertical-align: middle;\n",
       "    }\n",
       "\n",
       "    .dataframe tbody tr th {\n",
       "        vertical-align: top;\n",
       "    }\n",
       "\n",
       "    .dataframe thead th {\n",
       "        text-align: right;\n",
       "    }\n",
       "</style>\n",
       "<table border=\"1\" class=\"dataframe\">\n",
       "  <thead>\n",
       "    <tr style=\"text-align: right;\">\n",
       "      <th></th>\n",
       "      <th>LAB_RESULT_CM_ID</th>\n",
       "      <th>ID</th>\n",
       "      <th>ENCOUNTERID</th>\n",
       "      <th>SPECIMEN_SOURCE</th>\n",
       "      <th>LAB_LOINC</th>\n",
       "      <th>LAB_RESULT_SOURCE</th>\n",
       "      <th>LAB_LOINC_SOURCE</th>\n",
       "      <th>PRIORITY</th>\n",
       "      <th>RESULT_LOC</th>\n",
       "      <th>LAB_PX</th>\n",
       "      <th>...</th>\n",
       "      <th>index_age</th>\n",
       "      <th>study_range_min</th>\n",
       "      <th>study_range_max</th>\n",
       "      <th>study_range_max_1</th>\n",
       "      <th>study_range_max_05</th>\n",
       "      <th>DEATH_DATE</th>\n",
       "      <th>IF_any3cancer</th>\n",
       "      <th>IF_breastcancer</th>\n",
       "      <th>IF_colorectalcancer</th>\n",
       "      <th>IF_lungcancer</th>\n",
       "    </tr>\n",
       "  </thead>\n",
       "  <tbody>\n",
       "    <tr>\n",
       "      <th>0</th>\n",
       "      <td>cfhOcbEKSlSqrw28</td>\n",
       "      <td>03Nov2022IRB20200313700112267</td>\n",
       "      <td>cfhOdr8FS1Oooww=</td>\n",
       "      <td>SER_PLAS</td>\n",
       "      <td>2823-3</td>\n",
       "      <td>OD</td>\n",
       "      <td>DW</td>\n",
       "      <td>R</td>\n",
       "      <td>L</td>\n",
       "      <td>LAB17</td>\n",
       "      <td>...</td>\n",
       "      <td>55</td>\n",
       "      <td>2006-01-09</td>\n",
       "      <td>2010-01-09</td>\n",
       "      <td>2011-01-09</td>\n",
       "      <td>2011-07-09</td>\n",
       "      <td>NaN</td>\n",
       "      <td>1</td>\n",
       "      <td>1</td>\n",
       "      <td>0</td>\n",
       "      <td>0</td>\n",
       "    </tr>\n",
       "    <tr>\n",
       "      <th>1</th>\n",
       "      <td>cfhOcbEKSlSqrwC7</td>\n",
       "      <td>03Nov2022IRB20200313700244847</td>\n",
       "      <td>cfhOdr8ESFCsrgE=</td>\n",
       "      <td>SER_PLAS</td>\n",
       "      <td>2885-2</td>\n",
       "      <td>OD</td>\n",
       "      <td>DW</td>\n",
       "      <td>R</td>\n",
       "      <td>L</td>\n",
       "      <td>LAB17</td>\n",
       "      <td>...</td>\n",
       "      <td>60</td>\n",
       "      <td>2015-12-20</td>\n",
       "      <td>2019-12-20</td>\n",
       "      <td>2020-12-20</td>\n",
       "      <td>2021-06-20</td>\n",
       "      <td>NaN</td>\n",
       "      <td>1</td>\n",
       "      <td>0</td>\n",
       "      <td>0</td>\n",
       "      <td>1</td>\n",
       "    </tr>\n",
       "  </tbody>\n",
       "</table>\n",
       "<p>2 rows × 43 columns</p>\n",
       "</div>"
      ],
      "text/plain": [
       "   LAB_RESULT_CM_ID                             ID       ENCOUNTERID  \\\n",
       "0  cfhOcbEKSlSqrw28  03Nov2022IRB20200313700112267  cfhOdr8FS1Oooww=   \n",
       "1  cfhOcbEKSlSqrwC7  03Nov2022IRB20200313700244847  cfhOdr8ESFCsrgE=   \n",
       "\n",
       "  SPECIMEN_SOURCE LAB_LOINC LAB_RESULT_SOURCE LAB_LOINC_SOURCE PRIORITY  \\\n",
       "0        SER_PLAS    2823-3                OD               DW        R   \n",
       "1        SER_PLAS    2885-2                OD               DW        R   \n",
       "\n",
       "  RESULT_LOC LAB_PX  ... index_age study_range_min study_range_max  \\\n",
       "0          L  LAB17  ...        55      2006-01-09      2010-01-09   \n",
       "1          L  LAB17  ...        60      2015-12-20      2019-12-20   \n",
       "\n",
       "  study_range_max_1 study_range_max_05 DEATH_DATE IF_any3cancer  \\\n",
       "0        2011-01-09         2011-07-09        NaN             1   \n",
       "1        2020-12-20         2021-06-20        NaN             1   \n",
       "\n",
       "  IF_breastcancer  IF_colorectalcancer IF_lungcancer  \n",
       "0               1                    0             0  \n",
       "1               0                    0             1  \n",
       "\n",
       "[2 rows x 43 columns]"
      ]
     },
     "execution_count": 136,
     "metadata": {},
     "output_type": "execute_result"
    }
   ],
   "source": [
    "#check consistency\n",
    "print(lab_result_cm_paired.shape),print(lab_result_cm.shape)\n",
    "print(lab_result_cm_paired.columns)\n",
    "lab_result_cm_paired.head(2)"
   ]
  },
  {
   "cell_type": "code",
   "execution_count": 137,
   "id": "regulation-exposure",
   "metadata": {},
   "outputs": [
    {
     "data": {
      "text/plain": [
       "1    76973186\n",
       "0        4892\n",
       "Name: IF_any3cancer, dtype: int64"
      ]
     },
     "execution_count": 137,
     "metadata": {},
     "output_type": "execute_result"
    }
   ],
   "source": [
    "lab_result_cm_paired['IF_any3cancer'].value_counts()"
   ]
  },
  {
   "cell_type": "code",
   "execution_count": 138,
   "id": "smart-blocking",
   "metadata": {},
   "outputs": [
    {
     "data": {
      "text/plain": [
       "0    49322307\n",
       "1    27655771\n",
       "Name: IF_breastcancer, dtype: int64"
      ]
     },
     "execution_count": 138,
     "metadata": {},
     "output_type": "execute_result"
    }
   ],
   "source": [
    "lab_result_cm_paired['BreastCancer'].value_counts()"
   ]
  },
  {
   "cell_type": "code",
   "execution_count": 139,
   "id": "outdoor-visitor",
   "metadata": {},
   "outputs": [
    {
     "data": {
      "text/plain": [
       "0    51996274\n",
       "1    24981804\n",
       "Name: IF_colorectalcancer, dtype: int64"
      ]
     },
     "execution_count": 139,
     "metadata": {},
     "output_type": "execute_result"
    }
   ],
   "source": [
    "lab_result_cm_paired['ColorectalCancer'].value_counts()"
   ]
  },
  {
   "cell_type": "code",
   "execution_count": 140,
   "id": "stylish-bathroom",
   "metadata": {},
   "outputs": [
    {
     "data": {
      "text/plain": [
       "0    46776104\n",
       "1    30201974\n",
       "Name: IF_lungcancer, dtype: int64"
      ]
     },
     "execution_count": 140,
     "metadata": {},
     "output_type": "execute_result"
    }
   ],
   "source": [
    "lab_result_cm_paired['LungCancer'].value_counts()"
   ]
  },
  {
   "cell_type": "code",
   "execution_count": 141,
   "id": "normal-treat",
   "metadata": {},
   "outputs": [
    {
     "data": {
      "text/plain": [
       "1"
      ]
     },
     "execution_count": 141,
     "metadata": {},
     "output_type": "execute_result"
    }
   ],
   "source": [
    "len(set(lab_result_cm_paired.loc[lab_result_cm_paired['IF_any3cancer']!=1]['ID']))"
   ]
  },
  {
   "cell_type": "code",
   "execution_count": 142,
   "id": "driving-gnome",
   "metadata": {},
   "outputs": [],
   "source": [
    "#exclude those 3 mismatches aforementioned\n",
    "lab_result_cm_paired = lab_result_cm_paired.loc[lab_result_cm_paired['IF_any3cancer']==1]"
   ]
  },
  {
   "cell_type": "code",
   "execution_count": 160,
   "id": "cross-lindsay",
   "metadata": {},
   "outputs": [
    {
     "name": "stdout",
     "output_type": "stream",
     "text": [
      "(76973186, 43)\n",
      "(76978078, 27)\n"
     ]
    }
   ],
   "source": [
    "print(lab_result_cm_paired.shape)\n",
    "print(lab_result_cm.shape)"
   ]
  },
  {
   "cell_type": "markdown",
   "id": "unsigned-owner",
   "metadata": {},
   "source": [
    "# Keep only female and male"
   ]
  },
  {
   "cell_type": "code",
   "execution_count": 162,
   "id": "voluntary-respect",
   "metadata": {},
   "outputs": [
    {
     "name": "stderr",
     "output_type": "stream",
     "text": [
      "/tmp/ipykernel_18264/714591504.py:2: NumbaWarning: \u001b[1m\n",
      "Compilation is falling back to object mode WITH looplifting enabled because Function \"is_in_set_pnb\" failed type inference due to: \u001b[1m\u001b[1mnon-precise type pyobject\u001b[0m\n",
      "\u001b[0m\u001b[1mDuring: typing of argument at /tmp/ipykernel_18264/714591504.py (4)\u001b[0m\n",
      "\u001b[1m\n",
      "File \"../../../tmp/ipykernel_18264/714591504.py\", line 4:\u001b[0m\n",
      "\u001b[1m<source missing, REPL/exec in use?>\u001b[0m\n",
      "\u001b[0m\n",
      "  @nb.jit(parallel=True)\n",
      "/tmp/ipykernel_18264/714591504.py:2: NumbaWarning: \u001b[1m\n",
      "Compilation is falling back to object mode WITHOUT looplifting enabled because Function \"is_in_set_pnb\" failed type inference due to: \u001b[1m\u001b[1mCannot determine Numba type of <class 'numba.core.dispatcher.LiftedLoop'>\u001b[0m\n",
      "\u001b[1m\n",
      "File \"../../../tmp/ipykernel_18264/714591504.py\", line 9:\u001b[0m\n",
      "\u001b[1m<source missing, REPL/exec in use?>\u001b[0m\n",
      "\u001b[0m\u001b[0m\n",
      "  @nb.jit(parallel=True)\n",
      "/home/changyu.yin/.pyenv/versions/miniconda3-latest/envs/rapids-22.12/lib/python3.9/site-packages/numba/core/object_mode_passes.py:151: NumbaWarning: \u001b[1mFunction \"is_in_set_pnb\" was compiled in object mode without forceobj=True, but has lifted loops.\n",
      "\u001b[1m\n",
      "File \"../../../tmp/ipykernel_18264/714591504.py\", line 4:\u001b[0m\n",
      "\u001b[1m<source missing, REPL/exec in use?>\u001b[0m\n",
      "\u001b[0m\n",
      "  warnings.warn(errors.NumbaWarning(warn_msg,\n",
      "/home/changyu.yin/.pyenv/versions/miniconda3-latest/envs/rapids-22.12/lib/python3.9/site-packages/numba/core/object_mode_passes.py:161: NumbaDeprecationWarning: \u001b[1m\n",
      "Fall-back from the nopython compilation path to the object mode compilation path has been detected, this is deprecated behaviour.\n",
      "\n",
      "For more information visit https://numba.readthedocs.io/en/stable/reference/deprecation.html#deprecation-of-object-mode-fall-back-behaviour-when-using-jit\n",
      "\u001b[1m\n",
      "File \"../../../tmp/ipykernel_18264/714591504.py\", line 4:\u001b[0m\n",
      "\u001b[1m<source missing, REPL/exec in use?>\u001b[0m\n",
      "\u001b[0m\n",
      "  warnings.warn(errors.NumbaDeprecationWarning(msg,\n",
      "/tmp/ipykernel_18264/714591504.py:2: NumbaWarning: \u001b[1m\n",
      "Compilation is falling back to object mode WITHOUT looplifting enabled because Function \"is_in_set_pnb\" failed type inference due to: \u001b[1m\u001b[1mnon-precise type pyobject\u001b[0m\n",
      "\u001b[0m\u001b[1mDuring: typing of argument at /tmp/ipykernel_18264/714591504.py (9)\u001b[0m\n",
      "\u001b[1m\n",
      "File \"../../../tmp/ipykernel_18264/714591504.py\", line 9:\u001b[0m\n",
      "\u001b[1m<source missing, REPL/exec in use?>\u001b[0m\n",
      "\u001b[0m\n",
      "  @nb.jit(parallel=True)\n",
      "/home/changyu.yin/.pyenv/versions/miniconda3-latest/envs/rapids-22.12/lib/python3.9/site-packages/numba/core/object_mode_passes.py:151: NumbaWarning: \u001b[1mFunction \"is_in_set_pnb\" was compiled in object mode without forceobj=True.\n",
      "\u001b[1m\n",
      "File \"../../../tmp/ipykernel_18264/714591504.py\", line 9:\u001b[0m\n",
      "\u001b[1m<source missing, REPL/exec in use?>\u001b[0m\n",
      "\u001b[0m\n",
      "  warnings.warn(errors.NumbaWarning(warn_msg,\n",
      "/home/changyu.yin/.pyenv/versions/miniconda3-latest/envs/rapids-22.12/lib/python3.9/site-packages/numba/core/object_mode_passes.py:161: NumbaDeprecationWarning: \u001b[1m\n",
      "Fall-back from the nopython compilation path to the object mode compilation path has been detected, this is deprecated behaviour.\n",
      "\n",
      "For more information visit https://numba.readthedocs.io/en/stable/reference/deprecation.html#deprecation-of-object-mode-fall-back-behaviour-when-using-jit\n",
      "\u001b[1m\n",
      "File \"../../../tmp/ipykernel_18264/714591504.py\", line 9:\u001b[0m\n",
      "\u001b[1m<source missing, REPL/exec in use?>\u001b[0m\n",
      "\u001b[0m\n",
      "  warnings.warn(errors.NumbaDeprecationWarning(msg,\n"
     ]
    }
   ],
   "source": [
    "lab_result_cm_paired = lab_result_cm_paired.loc[is_in_set_pnb(lab_result_cm_paired['SEX'],['F','M'])]"
   ]
  },
  {
   "cell_type": "code",
   "execution_count": 164,
   "id": "regional-allergy",
   "metadata": {},
   "outputs": [
    {
     "name": "stdout",
     "output_type": "stream",
     "text": [
      "(76972453, 43)\n"
     ]
    },
    {
     "data": {
      "text/html": [
       "<div>\n",
       "<style scoped>\n",
       "    .dataframe tbody tr th:only-of-type {\n",
       "        vertical-align: middle;\n",
       "    }\n",
       "\n",
       "    .dataframe tbody tr th {\n",
       "        vertical-align: top;\n",
       "    }\n",
       "\n",
       "    .dataframe thead th {\n",
       "        text-align: right;\n",
       "    }\n",
       "</style>\n",
       "<table border=\"1\" class=\"dataframe\">\n",
       "  <thead>\n",
       "    <tr style=\"text-align: right;\">\n",
       "      <th></th>\n",
       "      <th>LAB_RESULT_CM_ID</th>\n",
       "      <th>ID</th>\n",
       "      <th>ENCOUNTERID</th>\n",
       "      <th>SPECIMEN_SOURCE</th>\n",
       "      <th>LAB_LOINC</th>\n",
       "      <th>LAB_RESULT_SOURCE</th>\n",
       "      <th>LAB_LOINC_SOURCE</th>\n",
       "      <th>PRIORITY</th>\n",
       "      <th>RESULT_LOC</th>\n",
       "      <th>LAB_PX</th>\n",
       "      <th>...</th>\n",
       "      <th>index_age</th>\n",
       "      <th>study_range_min</th>\n",
       "      <th>study_range_max</th>\n",
       "      <th>study_range_max_1</th>\n",
       "      <th>study_range_max_05</th>\n",
       "      <th>DEATH_DATE</th>\n",
       "      <th>IF_any3cancer</th>\n",
       "      <th>IF_breastcancer</th>\n",
       "      <th>IF_colorectalcancer</th>\n",
       "      <th>IF_lungcancer</th>\n",
       "    </tr>\n",
       "  </thead>\n",
       "  <tbody>\n",
       "    <tr>\n",
       "      <th>0</th>\n",
       "      <td>cfhOcbEKSlSqrw28</td>\n",
       "      <td>03Nov2022IRB20200313700112267</td>\n",
       "      <td>cfhOdr8FS1Oooww=</td>\n",
       "      <td>SER_PLAS</td>\n",
       "      <td>2823-3</td>\n",
       "      <td>OD</td>\n",
       "      <td>DW</td>\n",
       "      <td>R</td>\n",
       "      <td>L</td>\n",
       "      <td>LAB17</td>\n",
       "      <td>...</td>\n",
       "      <td>55</td>\n",
       "      <td>2006-01-09</td>\n",
       "      <td>2010-01-09</td>\n",
       "      <td>2011-01-09</td>\n",
       "      <td>2011-07-09</td>\n",
       "      <td>NaN</td>\n",
       "      <td>1</td>\n",
       "      <td>1</td>\n",
       "      <td>0</td>\n",
       "      <td>0</td>\n",
       "    </tr>\n",
       "    <tr>\n",
       "      <th>1</th>\n",
       "      <td>cfhOcbEKSlSqrwC7</td>\n",
       "      <td>03Nov2022IRB20200313700244847</td>\n",
       "      <td>cfhOdr8ESFCsrgE=</td>\n",
       "      <td>SER_PLAS</td>\n",
       "      <td>2885-2</td>\n",
       "      <td>OD</td>\n",
       "      <td>DW</td>\n",
       "      <td>R</td>\n",
       "      <td>L</td>\n",
       "      <td>LAB17</td>\n",
       "      <td>...</td>\n",
       "      <td>60</td>\n",
       "      <td>2015-12-20</td>\n",
       "      <td>2019-12-20</td>\n",
       "      <td>2020-12-20</td>\n",
       "      <td>2021-06-20</td>\n",
       "      <td>NaN</td>\n",
       "      <td>1</td>\n",
       "      <td>0</td>\n",
       "      <td>0</td>\n",
       "      <td>1</td>\n",
       "    </tr>\n",
       "  </tbody>\n",
       "</table>\n",
       "<p>2 rows × 43 columns</p>\n",
       "</div>"
      ],
      "text/plain": [
       "   LAB_RESULT_CM_ID                             ID       ENCOUNTERID  \\\n",
       "0  cfhOcbEKSlSqrw28  03Nov2022IRB20200313700112267  cfhOdr8FS1Oooww=   \n",
       "1  cfhOcbEKSlSqrwC7  03Nov2022IRB20200313700244847  cfhOdr8ESFCsrgE=   \n",
       "\n",
       "  SPECIMEN_SOURCE LAB_LOINC LAB_RESULT_SOURCE LAB_LOINC_SOURCE PRIORITY  \\\n",
       "0        SER_PLAS    2823-3                OD               DW        R   \n",
       "1        SER_PLAS    2885-2                OD               DW        R   \n",
       "\n",
       "  RESULT_LOC LAB_PX  ... index_age study_range_min study_range_max  \\\n",
       "0          L  LAB17  ...        55      2006-01-09      2010-01-09   \n",
       "1          L  LAB17  ...        60      2015-12-20      2019-12-20   \n",
       "\n",
       "  study_range_max_1 study_range_max_05 DEATH_DATE IF_any3cancer  \\\n",
       "0        2011-01-09         2011-07-09        NaN             1   \n",
       "1        2020-12-20         2021-06-20        NaN             1   \n",
       "\n",
       "  IF_breastcancer  IF_colorectalcancer IF_lungcancer  \n",
       "0               1                    0             0  \n",
       "1               0                    0             1  \n",
       "\n",
       "[2 rows x 43 columns]"
      ]
     },
     "execution_count": 164,
     "metadata": {},
     "output_type": "execute_result"
    }
   ],
   "source": [
    "print(lab_result_cm_paired.shape)\n",
    "lab_result_cm_paired.head(2)"
   ]
  },
  {
   "cell_type": "markdown",
   "id": "bibliographic-olympus",
   "metadata": {},
   "source": [
    "# Preprocessing: Age at lab order date"
   ]
  },
  {
   "cell_type": "code",
   "execution_count": 157,
   "id": "massive-waste",
   "metadata": {},
   "outputs": [],
   "source": [
    "lab_result_cm_paired['LAB_ORDER_DATE']=pd.to_datetime(lab_result_cm_paired['LAB_ORDER_DATE'])"
   ]
  },
  {
   "cell_type": "code",
   "execution_count": 168,
   "id": "selective-pizza",
   "metadata": {},
   "outputs": [
    {
     "data": {
      "application/vnd.jupyter.widget-view+json": {
       "model_id": "37e61b304c964f31bef118594c46106b",
       "version_major": 2,
       "version_minor": 0
      },
      "text/plain": [
       "Dask Apply:   0%|          | 0/192 [00:00<?, ?it/s]"
      ]
     },
     "metadata": {},
     "output_type": "display_data"
    },
    {
     "name": "stderr",
     "output_type": "stream",
     "text": [
      "/tmp/ipykernel_18264/744594513.py:1: SettingWithCopyWarning: \n",
      "A value is trying to be set on a copy of a slice from a DataFrame.\n",
      "Try using .loc[row_indexer,col_indexer] = value instead\n",
      "\n",
      "See the caveats in the documentation: https://pandas.pydata.org/pandas-docs/stable/user_guide/indexing.html#returning-a-view-versus-a-copy\n",
      "  lab_result_cm_paired['lab_age'] = lab_result_cm_paired[['BIRTH_DATE','LAB_ORDER_DATE']].swifter.apply(lambda x: calc_age(x.BIRTH_DATE, x.LAB_ORDER_DATE), axis=1)\n"
     ]
    }
   ],
   "source": [
    "lab_result_cm_paired['lab_age'] = lab_result_cm_paired[['BIRTH_DATE','LAB_ORDER_DATE']].swifter.apply(lambda x: calc_age(x.BIRTH_DATE, x.LAB_ORDER_DATE), axis=1)"
   ]
  },
  {
   "cell_type": "code",
   "execution_count": 169,
   "id": "figured-inventory",
   "metadata": {},
   "outputs": [
    {
     "name": "stdout",
     "output_type": "stream",
     "text": [
      "(76972453, 45)\n"
     ]
    },
    {
     "name": "stderr",
     "output_type": "stream",
     "text": [
      "/tmp/ipykernel_18264/718505383.py:2: SettingWithCopyWarning: \n",
      "A value is trying to be set on a copy of a slice from a DataFrame.\n",
      "Try using .loc[row_indexer,col_indexer] = value instead\n",
      "\n",
      "See the caveats in the documentation: https://pandas.pydata.org/pandas-docs/stable/user_guide/indexing.html#returning-a-view-versus-a-copy\n",
      "  lab_result_cm_paired['age_band'] = pd.cut(lab_result_cm_paired.lab_age, \\\n"
     ]
    }
   ],
   "source": [
    "#calc group\n",
    "lab_result_cm_paired['age_band'] = pd.cut(lab_result_cm_paired.lab_age, \\\n",
    "                                    [-999,20,30,40,50,60,70,80,999],\\\n",
    "                                    labels = ['[0,20)','[20,30)','[30,40)','[40,50)','[50,60)','[60,70)','[70,80)','>=80'],\\\n",
    "                                    include_lowest=True,right=False)\n",
    "print(lab_result_cm_paired.shape)"
   ]
  },
  {
   "cell_type": "code",
   "execution_count": 174,
   "id": "filled-census",
   "metadata": {},
   "outputs": [
    {
     "name": "stdout",
     "output_type": "stream",
     "text": [
      "(76972453, 45)\n",
      "Index(['LAB_RESULT_CM_ID', 'ID', 'ENCOUNTERID', 'SPECIMEN_SOURCE', 'LAB_LOINC',\n",
      "       'LAB_RESULT_SOURCE', 'LAB_LOINC_SOURCE', 'PRIORITY', 'RESULT_LOC',\n",
      "       'LAB_PX', 'LAB_PX_TYPE', 'LAB_ORDER_DATE', 'SPECIMEN_DATE',\n",
      "       'SPECIMEN_TIME', 'RESULT_DATE', 'RESULT_TIME', 'RESULT_QUAL',\n",
      "       'RESULT_SNOMED', 'RESULT_NUM', 'RESULT_MODIFIER', 'RESULT_UNIT',\n",
      "       'NORM_RANGE_LOW', 'NORM_MODIFIER_LOW', 'NORM_RANGE_HIGH',\n",
      "       'NORM_MODIFIER_HIGH', 'ABN_IND', 'SOURCE_masked', 'BIRTH_DATE', 'SEX',\n",
      "       'HISPANIC', 'RACE', 'ZIP_CODE', 'index_date', 'index_age',\n",
      "       'study_range_min', 'study_range_max', 'study_range_max_1',\n",
      "       'study_range_max_05', 'DEATH_DATE', 'IF_any3cancer', 'lab_age',\n",
      "       'age_band', 'BreastCancer', 'ColorectalCancer', 'LungCancer'],\n",
      "      dtype='object')\n"
     ]
    }
   ],
   "source": [
    "print(lab_result_cm_paired.shape)\n",
    "print(lab_result_cm_paired.columns)"
   ]
  },
  {
   "cell_type": "markdown",
   "id": "bibliographic-princess",
   "metadata": {},
   "source": [
    "# Remove records without LOINC_CODE"
   ]
  },
  {
   "cell_type": "code",
   "execution_count": 5,
   "id": "rotary-salvation",
   "metadata": {},
   "outputs": [
    {
     "name": "stdout",
     "output_type": "stream",
     "text": [
      "988747  out of  76972453  rows of LAB table miss LOINC code information\n",
      "in percentage, is  1.28 %\n"
     ]
    }
   ],
   "source": [
    "#missing LOINC code counts\n",
    "print(sum(lab_result_cm_paired['LAB_LOINC'].isna()), ' out of ', len(lab_result_cm_paired['LAB_LOINC']), ' rows of LAB table miss LOINC code information')\n",
    "print('in percentage, is ',np.round(np.mean(lab_result_cm_paired['LAB_LOINC'].isna())*100,2),'%')"
   ]
  },
  {
   "cell_type": "code",
   "execution_count": 6,
   "id": "quiet-fruit",
   "metadata": {},
   "outputs": [
    {
     "name": "stdout",
     "output_type": "stream",
     "text": [
      "75983706\n"
     ]
    }
   ],
   "source": [
    "#exclude rows with missing LOINC code info\n",
    "lab_result_cm_paired = lab_result_cm_paired.loc[~lab_result_cm_paired['LAB_LOINC'].isna()]\n",
    "print(len(lab_result_cm_paired['LAB_LOINC']))"
   ]
  },
  {
   "cell_type": "markdown",
   "id": "paperback-temple",
   "metadata": {},
   "source": [
    "# Store processed data"
   ]
  },
  {
   "cell_type": "code",
   "execution_count": 175,
   "id": "appointed-flashing",
   "metadata": {},
   "outputs": [],
   "source": [
    "pickle.dump(lab_result_cm_paired, open('/data/datasets/changyuyin/1_Personalized_Lab_Test/lab_result_cm_processed.pkl','wb'))\n",
    "pickle.dump(death_date, open('/data/datasets/changyuyin/1_Personalized_Lab_Test/death_date_processed.pkl','wb'))"
   ]
  },
  {
   "cell_type": "code",
   "execution_count": 145,
   "id": "effective-penguin",
   "metadata": {},
   "outputs": [],
   "source": [
    "pickle.dump(lung_patient, open('/data/datasets/changyuyin/1_Personalized_Lab_Test/lung_patient.pkl','wb'))\n",
    "pickle.dump(colorectal_patient, open('/data/datasets/changyuyin/1_Personalized_Lab_Test/colorectal_patient.pkl','wb'))\n",
    "pickle.dump(breast_patient, open('/data/datasets/changyuyin/1_Personalized_Lab_Test/breast_patient.pkl','wb'))"
   ]
  },
  {
   "cell_type": "code",
   "execution_count": null,
   "id": "tough-alloy",
   "metadata": {},
   "outputs": [],
   "source": []
  }
 ],
 "metadata": {
  "kernelspec": {
   "display_name": "rapids-changyu.yin",
   "language": "python",
   "name": "changyu.yin-rapids-22.12"
  },
  "language_info": {
   "codemirror_mode": {
    "name": "ipython",
    "version": 3
   },
   "file_extension": ".py",
   "mimetype": "text/x-python",
   "name": "python",
   "nbconvert_exporter": "python",
   "pygments_lexer": "ipython3",
   "version": "3.9.15"
  },
  "toc-autonumbering": true
 },
 "nbformat": 4,
 "nbformat_minor": 5
}
